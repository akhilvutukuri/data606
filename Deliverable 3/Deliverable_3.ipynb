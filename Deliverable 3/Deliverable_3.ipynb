{
 "cells": [
  {
   "cell_type": "code",
   "execution_count": 1,
   "metadata": {},
   "outputs": [],
   "source": [
    "#importing libraries\n",
    "import pandas as pd\n",
    "import datetime\n",
    "import seaborn as sns\n",
    "from matplotlib import pyplot as plt\n",
    "import numpy as np\n",
    "import nltk\n",
    "import os\n",
    "import nltk.corpus\n",
    "from nltk.tokenize import word_tokenize\n",
    "import string\n",
    "import nltk\n",
    "from nltk.stem.wordnet import WordNetLemmatizer\n",
    "from nltk.corpus import stopwords\n",
    "from bs4 import BeautifulSoup\n",
    "import urllib.request\n",
    "import time\n",
    "import re\n",
    "from requests import get\n",
    "from collections import Counter\n",
    "from nltk.stem.porter import PorterStemmer\n",
    "from sklearn.feature_extraction.text import CountVectorizer\n",
    "from sklearn.tree import DecisionTreeClassifier\n",
    "from sklearn.neighbors import KNeighborsClassifier  \n",
    "from sklearn.ensemble import RandomForestClassifier  \n",
    "from sklearn.model_selection import train_test_split \n",
    "from sklearn.linear_model import LogisticRegression \n",
    "from sklearn.svm import LinearSVC\n",
    "import time\n",
    "from sklearn.preprocessing import LabelEncoder as le\n",
    "import statistics\n",
    "from sklearn.naive_bayes import MultinomialNB\n",
    "from sklearn.model_selection import ShuffleSplit\n",
    "from sklearn.model_selection import cross_val_score\n",
    "from sklearn.metrics import confusion_matrix\n",
    "from sklearn.multiclass import OneVsRestClassifier"
   ]
  },
  {
   "cell_type": "code",
   "execution_count": 3,
   "metadata": {},
   "outputs": [
    {
     "name": "stderr",
     "output_type": "stream",
     "text": [
      "b'Skipping line 994: expected 4 fields, saw 5\\nSkipping line 1146: expected 4 fields, saw 6\\nSkipping line 1747: expected 4 fields, saw 6\\nSkipping line 3870: expected 4 fields, saw 5\\nSkipping line 4195: expected 4 fields, saw 5\\nSkipping line 4283: expected 4 fields, saw 5\\nSkipping line 4313: expected 4 fields, saw 5\\nSkipping line 5279: expected 4 fields, saw 7\\nSkipping line 6810: expected 4 fields, saw 5\\nSkipping line 6913: expected 4 fields, saw 6\\nSkipping line 7368: expected 4 fields, saw 5\\nSkipping line 10698: expected 4 fields, saw 5\\nSkipping line 10907: expected 4 fields, saw 5\\nSkipping line 13732: expected 4 fields, saw 5\\nSkipping line 14378: expected 4 fields, saw 5\\nSkipping line 14642: expected 4 fields, saw 5\\nSkipping line 15914: expected 4 fields, saw 5\\nSkipping line 16329: expected 4 fields, saw 5\\nSkipping line 17209: expected 4 fields, saw 5\\nSkipping line 17638: expected 4 fields, saw 5\\nSkipping line 17949: expected 4 fields, saw 5\\nSkipping line 21717: expected 4 fields, saw 5\\nSkipping line 21873: expected 4 fields, saw 5\\nSkipping line 22209: expected 4 fields, saw 5\\nSkipping line 22508: expected 4 fields, saw 5\\nSkipping line 22689: expected 4 fields, saw 5\\nSkipping line 23145: expected 4 fields, saw 5\\nSkipping line 25349: expected 4 fields, saw 5\\nSkipping line 26085: expected 4 fields, saw 5\\nSkipping line 26751: expected 4 fields, saw 5\\nSkipping line 30359: expected 4 fields, saw 5\\nSkipping line 30494: expected 4 fields, saw 5\\nSkipping line 30929: expected 4 fields, saw 5\\nSkipping line 30946: expected 4 fields, saw 5\\nSkipping line 31095: expected 4 fields, saw 5\\nSkipping line 31100: expected 4 fields, saw 5\\nSkipping line 31455: expected 4 fields, saw 5\\nSkipping line 31776: expected 4 fields, saw 5\\nSkipping line 31797: expected 4 fields, saw 5\\nSkipping line 33268: expected 4 fields, saw 5\\nSkipping line 33451: expected 4 fields, saw 5\\nSkipping line 33497: expected 4 fields, saw 6\\nSkipping line 33631: expected 4 fields, saw 5\\nSkipping line 34618: expected 4 fields, saw 5\\nSkipping line 34931: expected 4 fields, saw 5\\nSkipping line 35102: expected 4 fields, saw 6\\nSkipping line 35374: expected 4 fields, saw 5\\nSkipping line 36969: expected 4 fields, saw 5\\nSkipping line 37831: expected 4 fields, saw 5\\nSkipping line 38492: expected 4 fields, saw 5\\nSkipping line 38797: expected 4 fields, saw 5\\nSkipping line 38897: expected 4 fields, saw 5\\nSkipping line 39127: expected 4 fields, saw 5\\nSkipping line 39467: expected 4 fields, saw 5\\nSkipping line 39842: expected 4 fields, saw 5\\nSkipping line 41256: expected 4 fields, saw 5\\nSkipping line 42503: expected 4 fields, saw 5\\nSkipping line 44175: expected 4 fields, saw 5\\nSkipping line 45133: expected 4 fields, saw 5\\nSkipping line 45187: expected 4 fields, saw 7\\nSkipping line 45549: expected 4 fields, saw 5\\nSkipping line 45619: expected 4 fields, saw 5\\nSkipping line 45808: expected 4 fields, saw 5\\nSkipping line 46415: expected 4 fields, saw 5\\nSkipping line 47702: expected 4 fields, saw 5\\nSkipping line 49002: expected 4 fields, saw 5\\nSkipping line 51162: expected 4 fields, saw 5\\nSkipping line 51168: expected 4 fields, saw 6\\nSkipping line 52333: expected 4 fields, saw 5\\nSkipping line 52874: expected 4 fields, saw 5\\nSkipping line 53005: expected 4 fields, saw 5\\nSkipping line 53496: expected 4 fields, saw 6\\nSkipping line 57432: expected 4 fields, saw 5\\nSkipping line 58574: expected 4 fields, saw 5\\nSkipping line 62602: expected 4 fields, saw 5\\nSkipping line 63207: expected 4 fields, saw 5\\nSkipping line 63582: expected 4 fields, saw 5\\nSkipping line 65184: expected 4 fields, saw 5\\nSkipping line 65618: expected 4 fields, saw 5\\nSkipping line 66961: expected 4 fields, saw 5\\nSkipping line 69177: expected 4 fields, saw 5\\nSkipping line 71028: expected 4 fields, saw 5\\nSkipping line 71668: expected 4 fields, saw 5\\nSkipping line 71700: expected 4 fields, saw 6\\nSkipping line 72685: expected 4 fields, saw 5\\nSkipping line 73042: expected 4 fields, saw 5\\nSkipping line 73116: expected 4 fields, saw 5\\nSkipping line 74969: expected 4 fields, saw 5\\nSkipping line 74998: expected 4 fields, saw 9\\nSkipping line 75610: expected 4 fields, saw 5\\nSkipping line 75773: expected 4 fields, saw 5\\nSkipping line 75836: expected 4 fields, saw 5\\nSkipping line 75842: expected 4 fields, saw 6\\nSkipping line 75861: expected 4 fields, saw 5\\nSkipping line 76384: expected 4 fields, saw 5\\nSkipping line 76519: expected 4 fields, saw 5\\nSkipping line 76582: expected 4 fields, saw 5\\nSkipping line 77554: expected 4 fields, saw 5\\nSkipping line 77671: expected 4 fields, saw 6\\nSkipping line 77867: expected 4 fields, saw 8\\nSkipping line 77972: expected 4 fields, saw 5\\nSkipping line 79997: expected 4 fields, saw 5\\nSkipping line 81067: expected 4 fields, saw 5\\nSkipping line 81523: expected 4 fields, saw 5\\nSkipping line 82742: expected 4 fields, saw 6\\nSkipping line 83040: expected 4 fields, saw 5\\nSkipping line 83627: expected 4 fields, saw 6\\nSkipping line 84862: expected 4 fields, saw 5\\nSkipping line 86056: expected 4 fields, saw 6\\nSkipping line 86692: expected 4 fields, saw 5\\nSkipping line 87428: expected 4 fields, saw 5\\nSkipping line 90475: expected 4 fields, saw 5\\nSkipping line 91518: expected 4 fields, saw 6\\nSkipping line 91702: expected 4 fields, saw 6\\nSkipping line 92073: expected 4 fields, saw 5\\nSkipping line 93925: expected 4 fields, saw 5\\nSkipping line 95497: expected 4 fields, saw 6\\nSkipping line 95571: expected 4 fields, saw 5\\nSkipping line 96034: expected 4 fields, saw 5\\nSkipping line 96096: expected 4 fields, saw 5\\nSkipping line 96097: expected 4 fields, saw 5\\nSkipping line 97161: expected 4 fields, saw 5\\nSkipping line 97200: expected 4 fields, saw 5\\nSkipping line 97366: expected 4 fields, saw 5\\nSkipping line 98583: expected 4 fields, saw 5\\nSkipping line 98853: expected 4 fields, saw 5\\nSkipping line 99666: expected 4 fields, saw 5\\nSkipping line 99713: expected 4 fields, saw 5\\nSkipping line 99835: expected 4 fields, saw 5\\nSkipping line 100388: expected 4 fields, saw 5\\nSkipping line 100727: expected 4 fields, saw 5\\nSkipping line 101273: expected 4 fields, saw 6\\nSkipping line 101618: expected 4 fields, saw 5\\nSkipping line 104525: expected 4 fields, saw 5\\nSkipping line 105677: expected 4 fields, saw 5\\nSkipping line 108031: expected 4 fields, saw 5\\nSkipping line 108053: expected 4 fields, saw 5\\nSkipping line 108926: expected 4 fields, saw 6\\nSkipping line 109087: expected 4 fields, saw 5\\nSkipping line 109282: expected 4 fields, saw 5\\nSkipping line 109443: expected 4 fields, saw 5\\nSkipping line 111751: expected 4 fields, saw 5\\nSkipping line 112368: expected 4 fields, saw 5\\nSkipping line 113278: expected 4 fields, saw 6\\nSkipping line 113350: expected 4 fields, saw 5\\nSkipping line 114012: expected 4 fields, saw 5\\nSkipping line 114029: expected 4 fields, saw 5\\nSkipping line 114429: expected 4 fields, saw 5\\nSkipping line 114431: expected 4 fields, saw 5\\nSkipping line 114458: expected 4 fields, saw 5\\nSkipping line 115357: expected 4 fields, saw 5\\nSkipping line 115377: expected 4 fields, saw 5\\nSkipping line 116183: expected 4 fields, saw 5\\nSkipping line 116431: expected 4 fields, saw 5\\nSkipping line 118943: expected 4 fields, saw 5\\nSkipping line 122120: expected 4 fields, saw 5\\nSkipping line 122219: expected 4 fields, saw 5\\nSkipping line 122675: expected 4 fields, saw 5\\nSkipping line 122716: expected 4 fields, saw 5\\nSkipping line 122829: expected 4 fields, saw 5\\nSkipping line 122858: expected 4 fields, saw 5\\nSkipping line 123265: expected 4 fields, saw 5\\nSkipping line 123346: expected 4 fields, saw 5\\nSkipping line 123370: expected 4 fields, saw 5\\nSkipping line 123552: expected 4 fields, saw 5\\nSkipping line 123668: expected 4 fields, saw 5\\nSkipping line 124171: expected 4 fields, saw 5\\nSkipping line 125915: expected 4 fields, saw 5\\nSkipping line 126016: expected 4 fields, saw 5\\nSkipping line 126432: expected 4 fields, saw 5\\nSkipping line 126900: expected 4 fields, saw 7\\nSkipping line 126926: expected 4 fields, saw 5\\nSkipping line 127048: expected 4 fields, saw 5\\nSkipping line 128112: expected 4 fields, saw 5\\nSkipping line 129321: expected 4 fields, saw 5\\nSkipping line 130619: expected 4 fields, saw 6\\nSkipping line 131207: expected 4 fields, saw 5\\n'\n",
      "b'Skipping line 131304: expected 4 fields, saw 5\\nSkipping line 131757: expected 4 fields, saw 5\\nSkipping line 132806: expected 4 fields, saw 5\\nSkipping line 133411: expected 4 fields, saw 5\\nSkipping line 133724: expected 4 fields, saw 5\\nSkipping line 133772: expected 4 fields, saw 5\\nSkipping line 134031: expected 4 fields, saw 5\\nSkipping line 134218: expected 4 fields, saw 7\\nSkipping line 134776: expected 4 fields, saw 5\\nSkipping line 135620: expected 4 fields, saw 5\\nSkipping line 136597: expected 4 fields, saw 6\\nSkipping line 137136: expected 4 fields, saw 5\\nSkipping line 139036: expected 4 fields, saw 5\\nSkipping line 139136: expected 4 fields, saw 6\\nSkipping line 141806: expected 4 fields, saw 5\\nSkipping line 141871: expected 4 fields, saw 5\\nSkipping line 142018: expected 4 fields, saw 5\\nSkipping line 142623: expected 4 fields, saw 5\\nSkipping line 143070: expected 4 fields, saw 5\\nSkipping line 144087: expected 4 fields, saw 6\\nSkipping line 144379: expected 4 fields, saw 5\\nSkipping line 144398: expected 4 fields, saw 5\\nSkipping line 145028: expected 4 fields, saw 5\\nSkipping line 145031: expected 4 fields, saw 5\\nSkipping line 145034: expected 4 fields, saw 5\\nSkipping line 146412: expected 4 fields, saw 5\\nSkipping line 146457: expected 4 fields, saw 5\\nSkipping line 146679: expected 4 fields, saw 5\\nSkipping line 148126: expected 4 fields, saw 5\\nSkipping line 148212: expected 4 fields, saw 5\\nSkipping line 149085: expected 4 fields, saw 5\\nSkipping line 149279: expected 4 fields, saw 5\\nSkipping line 149822: expected 4 fields, saw 5\\nSkipping line 149977: expected 4 fields, saw 7\\nSkipping line 150171: expected 4 fields, saw 5\\nSkipping line 150235: expected 4 fields, saw 5\\nSkipping line 150672: expected 4 fields, saw 5\\nSkipping line 150731: expected 4 fields, saw 5\\nSkipping line 152715: expected 4 fields, saw 6\\nSkipping line 155234: expected 4 fields, saw 5\\nSkipping line 155442: expected 4 fields, saw 5\\nSkipping line 155694: expected 4 fields, saw 5\\nSkipping line 156789: expected 4 fields, saw 5\\nSkipping line 157148: expected 4 fields, saw 8\\nSkipping line 157155: expected 4 fields, saw 7\\nSkipping line 157963: expected 4 fields, saw 5\\nSkipping line 157966: expected 4 fields, saw 5\\nSkipping line 159515: expected 4 fields, saw 5\\nSkipping line 160585: expected 4 fields, saw 5\\nSkipping line 160971: expected 4 fields, saw 5\\nSkipping line 161447: expected 4 fields, saw 5\\nSkipping line 161911: expected 4 fields, saw 5\\nSkipping line 162653: expected 4 fields, saw 5\\nSkipping line 163811: expected 4 fields, saw 5\\nSkipping line 163846: expected 4 fields, saw 5\\nSkipping line 165255: expected 4 fields, saw 5\\nSkipping line 165999: expected 4 fields, saw 5\\nSkipping line 167538: expected 4 fields, saw 5\\nSkipping line 168031: expected 4 fields, saw 5\\nSkipping line 168812: expected 4 fields, saw 5\\nSkipping line 169702: expected 4 fields, saw 5\\nSkipping line 169861: expected 4 fields, saw 7\\nSkipping line 169930: expected 4 fields, saw 6\\nSkipping line 172880: expected 4 fields, saw 5\\nSkipping line 172885: expected 4 fields, saw 5\\nSkipping line 173290: expected 4 fields, saw 5\\nSkipping line 173744: expected 4 fields, saw 5\\nSkipping line 175940: expected 4 fields, saw 5\\nSkipping line 176578: expected 4 fields, saw 7\\nSkipping line 176591: expected 4 fields, saw 5\\nSkipping line 177354: expected 4 fields, saw 5\\nSkipping line 177471: expected 4 fields, saw 5\\nSkipping line 179223: expected 4 fields, saw 5\\nSkipping line 179300: expected 4 fields, saw 5\\nSkipping line 180961: expected 4 fields, saw 9\\nSkipping line 182122: expected 4 fields, saw 5\\nSkipping line 182624: expected 4 fields, saw 5\\nSkipping line 182670: expected 4 fields, saw 5\\nSkipping line 185284: expected 4 fields, saw 5\\nSkipping line 185957: expected 4 fields, saw 5\\nSkipping line 185966: expected 4 fields, saw 5\\nSkipping line 185994: expected 4 fields, saw 5\\nSkipping line 186008: expected 4 fields, saw 5\\nSkipping line 186247: expected 4 fields, saw 5\\nSkipping line 188394: expected 4 fields, saw 5\\nSkipping line 188410: expected 4 fields, saw 5\\nSkipping line 188506: expected 4 fields, saw 5\\nSkipping line 188958: expected 4 fields, saw 5\\nSkipping line 188971: expected 4 fields, saw 5\\nSkipping line 189336: expected 4 fields, saw 5\\nSkipping line 189347: expected 4 fields, saw 7\\nSkipping line 189351: expected 4 fields, saw 6\\nSkipping line 193323: expected 4 fields, saw 5\\nSkipping line 193787: expected 4 fields, saw 5\\nSkipping line 193924: expected 4 fields, saw 5\\nSkipping line 194257: expected 4 fields, saw 6\\nSkipping line 194554: expected 4 fields, saw 5\\nSkipping line 194562: expected 4 fields, saw 5\\nSkipping line 194782: expected 4 fields, saw 5\\nSkipping line 195531: expected 4 fields, saw 5\\nSkipping line 197350: expected 4 fields, saw 5\\nSkipping line 197788: expected 4 fields, saw 5\\nSkipping line 199674: expected 4 fields, saw 5\\nSkipping line 200362: expected 4 fields, saw 5\\nSkipping line 200515: expected 4 fields, saw 7\\nSkipping line 202646: expected 4 fields, saw 6\\nSkipping line 205106: expected 4 fields, saw 5\\nSkipping line 205236: expected 4 fields, saw 5\\nSkipping line 205672: expected 4 fields, saw 5\\nSkipping line 206507: expected 4 fields, saw 5\\nSkipping line 206792: expected 4 fields, saw 5\\nSkipping line 207982: expected 4 fields, saw 7\\nSkipping line 208249: expected 4 fields, saw 5\\nSkipping line 209489: expected 4 fields, saw 5\\nSkipping line 209907: expected 4 fields, saw 5\\nSkipping line 210471: expected 4 fields, saw 5\\nSkipping line 210717: expected 4 fields, saw 5\\nSkipping line 211403: expected 4 fields, saw 5\\nSkipping line 212514: expected 4 fields, saw 5\\nSkipping line 212969: expected 4 fields, saw 5\\nSkipping line 213172: expected 4 fields, saw 5\\nSkipping line 213209: expected 4 fields, saw 5\\nSkipping line 213866: expected 4 fields, saw 5\\nSkipping line 213897: expected 4 fields, saw 5\\nSkipping line 214019: expected 4 fields, saw 5\\nSkipping line 215724: expected 4 fields, saw 5\\nSkipping line 215779: expected 4 fields, saw 5\\nSkipping line 215985: expected 4 fields, saw 5\\nSkipping line 216194: expected 4 fields, saw 6\\nSkipping line 217092: expected 4 fields, saw 5\\nSkipping line 217395: expected 4 fields, saw 6\\nSkipping line 217537: expected 4 fields, saw 5\\nSkipping line 221286: expected 4 fields, saw 5\\nSkipping line 222109: expected 4 fields, saw 5\\nSkipping line 224277: expected 4 fields, saw 5\\nSkipping line 224278: expected 4 fields, saw 5\\nSkipping line 225624: expected 4 fields, saw 5\\nSkipping line 225662: expected 4 fields, saw 5\\nSkipping line 225675: expected 4 fields, saw 5\\nSkipping line 225890: expected 4 fields, saw 5\\nSkipping line 226338: expected 4 fields, saw 5\\nSkipping line 227272: expected 4 fields, saw 7\\nSkipping line 227913: expected 4 fields, saw 5\\nSkipping line 231401: expected 4 fields, saw 5\\nSkipping line 234623: expected 4 fields, saw 5\\nSkipping line 235629: expected 4 fields, saw 5\\nSkipping line 237862: expected 4 fields, saw 5\\nSkipping line 238441: expected 4 fields, saw 5\\nSkipping line 239827: expected 4 fields, saw 5\\nSkipping line 244007: expected 4 fields, saw 5\\nSkipping line 246010: expected 4 fields, saw 5\\nSkipping line 246139: expected 4 fields, saw 5\\nSkipping line 246188: expected 4 fields, saw 5\\nSkipping line 247697: expected 4 fields, saw 5\\nSkipping line 249013: expected 4 fields, saw 6\\nSkipping line 249131: expected 4 fields, saw 5\\nSkipping line 250178: expected 4 fields, saw 5\\nSkipping line 251758: expected 4 fields, saw 6\\nSkipping line 252017: expected 4 fields, saw 5\\nSkipping line 253004: expected 4 fields, saw 5\\nSkipping line 254580: expected 4 fields, saw 6\\nSkipping line 255799: expected 4 fields, saw 6\\nSkipping line 255894: expected 4 fields, saw 5\\nSkipping line 255897: expected 4 fields, saw 5\\nSkipping line 259622: expected 4 fields, saw 5\\nSkipping line 260129: expected 4 fields, saw 5\\n'\n",
      "b'Skipping line 263419: expected 4 fields, saw 5\\nSkipping line 263420: expected 4 fields, saw 7\\nSkipping line 263881: expected 4 fields, saw 5\\nSkipping line 263937: expected 4 fields, saw 5\\nSkipping line 264917: expected 4 fields, saw 5\\nSkipping line 265304: expected 4 fields, saw 5\\nSkipping line 265564: expected 4 fields, saw 5\\nSkipping line 265713: expected 4 fields, saw 5\\nSkipping line 265828: expected 4 fields, saw 5\\nSkipping line 269085: expected 4 fields, saw 5\\nSkipping line 269203: expected 4 fields, saw 5\\nSkipping line 269297: expected 4 fields, saw 5\\nSkipping line 269663: expected 4 fields, saw 5\\nSkipping line 271271: expected 4 fields, saw 5\\nSkipping line 271602: expected 4 fields, saw 5\\nSkipping line 273215: expected 4 fields, saw 5\\nSkipping line 276863: expected 4 fields, saw 5\\nSkipping line 277784: expected 4 fields, saw 5\\nSkipping line 279903: expected 4 fields, saw 5\\nSkipping line 280460: expected 4 fields, saw 5\\nSkipping line 282151: expected 4 fields, saw 5\\nSkipping line 283785: expected 4 fields, saw 5\\nSkipping line 284910: expected 4 fields, saw 5\\nSkipping line 284913: expected 4 fields, saw 5\\nSkipping line 284917: expected 4 fields, saw 5\\nSkipping line 284918: expected 4 fields, saw 5\\nSkipping line 286521: expected 4 fields, saw 5\\nSkipping line 287801: expected 4 fields, saw 5\\nSkipping line 289217: expected 4 fields, saw 5\\nSkipping line 291746: expected 4 fields, saw 5\\nSkipping line 293157: expected 4 fields, saw 6\\nSkipping line 293494: expected 4 fields, saw 5\\nSkipping line 295224: expected 4 fields, saw 5\\nSkipping line 296502: expected 4 fields, saw 5\\nSkipping line 296503: expected 4 fields, saw 5\\nSkipping line 300878: expected 4 fields, saw 7\\nSkipping line 300982: expected 4 fields, saw 5\\nSkipping line 301471: expected 4 fields, saw 5\\nSkipping line 301489: expected 4 fields, saw 5\\nSkipping line 301961: expected 4 fields, saw 5\\nSkipping line 302101: expected 4 fields, saw 6\\nSkipping line 302185: expected 4 fields, saw 5\\nSkipping line 303481: expected 4 fields, saw 5\\nSkipping line 303574: expected 4 fields, saw 6\\nSkipping line 303763: expected 4 fields, saw 5\\nSkipping line 303813: expected 4 fields, saw 6\\nSkipping line 303814: expected 4 fields, saw 7\\nSkipping line 303815: expected 4 fields, saw 7\\nSkipping line 304174: expected 4 fields, saw 5\\nSkipping line 304538: expected 4 fields, saw 5\\nSkipping line 305176: expected 4 fields, saw 7\\nSkipping line 306065: expected 4 fields, saw 5\\nSkipping line 306618: expected 4 fields, saw 5\\nSkipping line 306945: expected 4 fields, saw 7\\nSkipping line 306969: expected 4 fields, saw 6\\nSkipping line 307197: expected 4 fields, saw 5\\nSkipping line 307537: expected 4 fields, saw 5\\nSkipping line 308430: expected 4 fields, saw 5\\nSkipping line 308454: expected 4 fields, saw 5\\nSkipping line 309076: expected 4 fields, saw 5\\nSkipping line 309086: expected 4 fields, saw 5\\nSkipping line 310684: expected 4 fields, saw 5\\nSkipping line 310748: expected 4 fields, saw 5\\nSkipping line 310900: expected 4 fields, saw 5\\nSkipping line 311784: expected 4 fields, saw 6\\nSkipping line 312306: expected 4 fields, saw 6\\nSkipping line 312809: expected 4 fields, saw 5\\nSkipping line 313624: expected 4 fields, saw 5\\nSkipping line 315418: expected 4 fields, saw 5\\nSkipping line 315661: expected 4 fields, saw 5\\nSkipping line 317214: expected 4 fields, saw 5\\nSkipping line 317246: expected 4 fields, saw 6\\nSkipping line 317755: expected 4 fields, saw 5\\nSkipping line 318076: expected 4 fields, saw 5\\nSkipping line 318248: expected 4 fields, saw 5\\nSkipping line 318301: expected 4 fields, saw 5\\nSkipping line 318303: expected 4 fields, saw 5\\nSkipping line 318590: expected 4 fields, saw 6\\nSkipping line 322253: expected 4 fields, saw 6\\nSkipping line 326193: expected 4 fields, saw 5\\nSkipping line 326413: expected 4 fields, saw 5\\nSkipping line 327225: expected 4 fields, saw 5\\nSkipping line 328822: expected 4 fields, saw 5\\nSkipping line 329764: expected 4 fields, saw 5\\nSkipping line 331630: expected 4 fields, saw 5\\nSkipping line 331708: expected 4 fields, saw 5\\nSkipping line 331800: expected 4 fields, saw 6\\nSkipping line 333303: expected 4 fields, saw 5\\nSkipping line 334225: expected 4 fields, saw 5\\nSkipping line 335258: expected 4 fields, saw 6\\nSkipping line 335692: expected 4 fields, saw 5\\nSkipping line 337331: expected 4 fields, saw 5\\nSkipping line 339481: expected 4 fields, saw 5\\nSkipping line 340982: expected 4 fields, saw 5\\nSkipping line 344408: expected 4 fields, saw 5\\nSkipping line 344556: expected 4 fields, saw 5\\nSkipping line 345345: expected 4 fields, saw 5\\nSkipping line 346309: expected 4 fields, saw 5\\nSkipping line 346313: expected 4 fields, saw 5\\nSkipping line 346696: expected 4 fields, saw 5\\nSkipping line 347259: expected 4 fields, saw 5\\nSkipping line 348437: expected 4 fields, saw 5\\nSkipping line 348474: expected 4 fields, saw 5\\nSkipping line 348488: expected 4 fields, saw 6\\nSkipping line 349911: expected 4 fields, saw 5\\nSkipping line 350577: expected 4 fields, saw 9\\nSkipping line 352293: expected 4 fields, saw 5\\nSkipping line 352399: expected 4 fields, saw 5\\nSkipping line 352413: expected 4 fields, saw 5\\nSkipping line 354335: expected 4 fields, saw 5\\nSkipping line 354369: expected 4 fields, saw 6\\nSkipping line 357096: expected 4 fields, saw 5\\nSkipping line 357097: expected 4 fields, saw 5\\nSkipping line 357934: expected 4 fields, saw 5\\nSkipping line 358354: expected 4 fields, saw 7\\nSkipping line 358763: expected 4 fields, saw 5\\nSkipping line 358941: expected 4 fields, saw 5\\nSkipping line 358957: expected 4 fields, saw 5\\nSkipping line 359021: expected 4 fields, saw 5\\nSkipping line 359153: expected 4 fields, saw 5\\nSkipping line 359186: expected 4 fields, saw 5\\nSkipping line 360832: expected 4 fields, saw 5\\nSkipping line 361750: expected 4 fields, saw 5\\nSkipping line 361761: expected 4 fields, saw 5\\nSkipping line 361764: expected 4 fields, saw 5\\nSkipping line 361777: expected 4 fields, saw 6\\nSkipping line 361917: expected 4 fields, saw 5\\nSkipping line 363834: expected 4 fields, saw 5\\nSkipping line 365911: expected 4 fields, saw 5\\nSkipping line 369007: expected 4 fields, saw 7\\nSkipping line 369314: expected 4 fields, saw 5\\nSkipping line 370954: expected 4 fields, saw 5\\nSkipping line 371152: expected 4 fields, saw 9\\nSkipping line 372069: expected 4 fields, saw 5\\nSkipping line 372256: expected 4 fields, saw 5\\nSkipping line 372261: expected 4 fields, saw 5\\nSkipping line 374348: expected 4 fields, saw 5\\nSkipping line 374412: expected 4 fields, saw 5\\nSkipping line 375687: expected 4 fields, saw 5\\nSkipping line 377147: expected 4 fields, saw 5\\nSkipping line 378927: expected 4 fields, saw 5\\nSkipping line 381766: expected 4 fields, saw 5\\nSkipping line 381963: expected 4 fields, saw 5\\nSkipping line 381977: expected 4 fields, saw 6\\nSkipping line 384811: expected 4 fields, saw 13\\nSkipping line 384812: expected 4 fields, saw 7\\nSkipping line 385249: expected 4 fields, saw 5\\nSkipping line 385455: expected 4 fields, saw 5\\nSkipping line 385888: expected 4 fields, saw 6\\nSkipping line 386541: expected 4 fields, saw 5\\nSkipping line 387678: expected 4 fields, saw 5\\nSkipping line 388129: expected 4 fields, saw 5\\nSkipping line 388185: expected 4 fields, saw 5\\nSkipping line 389815: expected 4 fields, saw 5\\nSkipping line 390448: expected 4 fields, saw 6\\nSkipping line 390527: expected 4 fields, saw 5\\nSkipping line 392656: expected 4 fields, saw 5\\nSkipping line 392804: expected 4 fields, saw 5\\nSkipping line 393278: expected 4 fields, saw 5\\n'\n",
      "b'Skipping line 395455: expected 4 fields, saw 5\\nSkipping line 395675: expected 4 fields, saw 5\\nSkipping line 395936: expected 4 fields, saw 5\\nSkipping line 399405: expected 4 fields, saw 7\\nSkipping line 400523: expected 4 fields, saw 5\\nSkipping line 403107: expected 4 fields, saw 5\\nSkipping line 403323: expected 4 fields, saw 5\\nSkipping line 404394: expected 4 fields, saw 5\\nSkipping line 406639: expected 4 fields, saw 5\\nSkipping line 407214: expected 4 fields, saw 5\\nSkipping line 408669: expected 4 fields, saw 5\\nSkipping line 408953: expected 4 fields, saw 5\\nSkipping line 410291: expected 4 fields, saw 7\\nSkipping line 410610: expected 4 fields, saw 5\\n'\n"
     ]
    }
   ],
   "source": [
    "df = pd.read_csv(\"newsCorpora.csv\",error_bad_lines=False)"
   ]
  },
  {
   "cell_type": "code",
   "execution_count": 28,
   "metadata": {},
   "outputs": [
    {
     "data": {
      "text/html": [
       "<div>\n",
       "<style scoped>\n",
       "    .dataframe tbody tr th:only-of-type {\n",
       "        vertical-align: middle;\n",
       "    }\n",
       "\n",
       "    .dataframe tbody tr th {\n",
       "        vertical-align: top;\n",
       "    }\n",
       "\n",
       "    .dataframe thead th {\n",
       "        text-align: right;\n",
       "    }\n",
       "</style>\n",
       "<table border=\"1\" class=\"dataframe\">\n",
       "  <thead>\n",
       "    <tr style=\"text-align: right;\">\n",
       "      <th></th>\n",
       "      <th>no</th>\n",
       "      <th>Headline</th>\n",
       "      <th>Web_link</th>\n",
       "      <th>magazine</th>\n",
       "      <th>Category</th>\n",
       "      <th>Non</th>\n",
       "      <th>magazine_website</th>\n",
       "      <th>unix_time</th>\n",
       "    </tr>\n",
       "  </thead>\n",
       "  <tbody>\n",
       "    <tr>\n",
       "      <th>0</th>\n",
       "      <td>2</td>\n",
       "      <td>Fed's Charles Plosser sees high bar for change...</td>\n",
       "      <td>http://www.livemint.com/Politics/H2EvwJSK2VE6O...</td>\n",
       "      <td>Livemint</td>\n",
       "      <td>b</td>\n",
       "      <td>ddUyU0VZz0BRneMioxUPQVP6sIxvM</td>\n",
       "      <td>www.livemint.com</td>\n",
       "      <td>1394470371207</td>\n",
       "    </tr>\n",
       "    <tr>\n",
       "      <th>1</th>\n",
       "      <td>3</td>\n",
       "      <td>US open: Stocks fall after Fed official hints ...</td>\n",
       "      <td>http://www.ifamagazine.com/news/us-open-stocks...</td>\n",
       "      <td>IFA Magazine</td>\n",
       "      <td>b</td>\n",
       "      <td>ddUyU0VZz0BRneMioxUPQVP6sIxvM</td>\n",
       "      <td>www.ifamagazine.com</td>\n",
       "      <td>1394470371550</td>\n",
       "    </tr>\n",
       "    <tr>\n",
       "      <th>2</th>\n",
       "      <td>4</td>\n",
       "      <td>Fed risks falling 'behind the curve', Charles ...</td>\n",
       "      <td>http://www.ifamagazine.com/news/fed-risks-fall...</td>\n",
       "      <td>IFA Magazine</td>\n",
       "      <td>b</td>\n",
       "      <td>ddUyU0VZz0BRneMioxUPQVP6sIxvM</td>\n",
       "      <td>www.ifamagazine.com</td>\n",
       "      <td>1394470371793</td>\n",
       "    </tr>\n",
       "    <tr>\n",
       "      <th>3</th>\n",
       "      <td>5</td>\n",
       "      <td>Fed's Plosser: Nasty Weather Has Curbed Job Gr...</td>\n",
       "      <td>http://www.moneynews.com/Economy/federal-reser...</td>\n",
       "      <td>Moneynews</td>\n",
       "      <td>b</td>\n",
       "      <td>ddUyU0VZz0BRneMioxUPQVP6sIxvM</td>\n",
       "      <td>www.moneynews.com</td>\n",
       "      <td>1394470372027</td>\n",
       "    </tr>\n",
       "    <tr>\n",
       "      <th>4</th>\n",
       "      <td>6</td>\n",
       "      <td>Plosser: Fed May Have to Accelerate Tapering Pace</td>\n",
       "      <td>http://www.nasdaq.com/article/plosser-fed-may-...</td>\n",
       "      <td>NASDAQ</td>\n",
       "      <td>b</td>\n",
       "      <td>ddUyU0VZz0BRneMioxUPQVP6sIxvM</td>\n",
       "      <td>www.nasdaq.com</td>\n",
       "      <td>1394470372212</td>\n",
       "    </tr>\n",
       "  </tbody>\n",
       "</table>\n",
       "</div>"
      ],
      "text/plain": [
       "   no                                           Headline  \\\n",
       "0   2  Fed's Charles Plosser sees high bar for change...   \n",
       "1   3  US open: Stocks fall after Fed official hints ...   \n",
       "2   4  Fed risks falling 'behind the curve', Charles ...   \n",
       "3   5  Fed's Plosser: Nasty Weather Has Curbed Job Gr...   \n",
       "4   6  Plosser: Fed May Have to Accelerate Tapering Pace   \n",
       "\n",
       "                                            Web_link      magazine Category  \\\n",
       "0  http://www.livemint.com/Politics/H2EvwJSK2VE6O...      Livemint        b   \n",
       "1  http://www.ifamagazine.com/news/us-open-stocks...  IFA Magazine        b   \n",
       "2  http://www.ifamagazine.com/news/fed-risks-fall...  IFA Magazine        b   \n",
       "3  http://www.moneynews.com/Economy/federal-reser...     Moneynews        b   \n",
       "4  http://www.nasdaq.com/article/plosser-fed-may-...        NASDAQ        b   \n",
       "\n",
       "                             Non     magazine_website      unix_time  \n",
       "0  ddUyU0VZz0BRneMioxUPQVP6sIxvM     www.livemint.com  1394470371207  \n",
       "1  ddUyU0VZz0BRneMioxUPQVP6sIxvM  www.ifamagazine.com  1394470371550  \n",
       "2  ddUyU0VZz0BRneMioxUPQVP6sIxvM  www.ifamagazine.com  1394470371793  \n",
       "3  ddUyU0VZz0BRneMioxUPQVP6sIxvM    www.moneynews.com  1394470372027  \n",
       "4  ddUyU0VZz0BRneMioxUPQVP6sIxvM       www.nasdaq.com  1394470372212  "
      ]
     },
     "execution_count": 28,
     "metadata": {},
     "output_type": "execute_result"
    }
   ],
   "source": [
    "df.head() # not imported in a proper csv format to be done analysis on "
   ]
  },
  {
   "cell_type": "markdown",
   "metadata": {},
   "source": [
    "looking into the data and found it is to be done with a seperator"
   ]
  },
  {
   "cell_type": "code",
   "execution_count": 2,
   "metadata": {},
   "outputs": [],
   "source": [
    "df = pd.read_csv(\"newsCorpora.csv\", sep='\\t' ,error_bad_lines=False) # reading csv and ignoring bad lines with a \\t"
   ]
  },
  {
   "cell_type": "code",
   "execution_count": 3,
   "metadata": {},
   "outputs": [],
   "source": [
    "df.columns = ['no','Headline','Web_link','magazine','Category','Non' , 'magazine_website', 'unix_time'] # reassigning columns"
   ]
  },
  {
   "cell_type": "code",
   "execution_count": 4,
   "metadata": {},
   "outputs": [
    {
     "data": {
      "text/html": [
       "<div>\n",
       "<style scoped>\n",
       "    .dataframe tbody tr th:only-of-type {\n",
       "        vertical-align: middle;\n",
       "    }\n",
       "\n",
       "    .dataframe tbody tr th {\n",
       "        vertical-align: top;\n",
       "    }\n",
       "\n",
       "    .dataframe thead th {\n",
       "        text-align: right;\n",
       "    }\n",
       "</style>\n",
       "<table border=\"1\" class=\"dataframe\">\n",
       "  <thead>\n",
       "    <tr style=\"text-align: right;\">\n",
       "      <th></th>\n",
       "      <th>no</th>\n",
       "      <th>Headline</th>\n",
       "      <th>Web_link</th>\n",
       "      <th>magazine</th>\n",
       "      <th>Category</th>\n",
       "      <th>Non</th>\n",
       "      <th>magazine_website</th>\n",
       "      <th>unix_time</th>\n",
       "    </tr>\n",
       "  </thead>\n",
       "  <tbody>\n",
       "    <tr>\n",
       "      <th>0</th>\n",
       "      <td>2</td>\n",
       "      <td>Fed's Charles Plosser sees high bar for change...</td>\n",
       "      <td>http://www.livemint.com/Politics/H2EvwJSK2VE6O...</td>\n",
       "      <td>Livemint</td>\n",
       "      <td>b</td>\n",
       "      <td>ddUyU0VZz0BRneMioxUPQVP6sIxvM</td>\n",
       "      <td>www.livemint.com</td>\n",
       "      <td>1394470371207</td>\n",
       "    </tr>\n",
       "    <tr>\n",
       "      <th>1</th>\n",
       "      <td>3</td>\n",
       "      <td>US open: Stocks fall after Fed official hints ...</td>\n",
       "      <td>http://www.ifamagazine.com/news/us-open-stocks...</td>\n",
       "      <td>IFA Magazine</td>\n",
       "      <td>b</td>\n",
       "      <td>ddUyU0VZz0BRneMioxUPQVP6sIxvM</td>\n",
       "      <td>www.ifamagazine.com</td>\n",
       "      <td>1394470371550</td>\n",
       "    </tr>\n",
       "    <tr>\n",
       "      <th>2</th>\n",
       "      <td>4</td>\n",
       "      <td>Fed risks falling 'behind the curve', Charles ...</td>\n",
       "      <td>http://www.ifamagazine.com/news/fed-risks-fall...</td>\n",
       "      <td>IFA Magazine</td>\n",
       "      <td>b</td>\n",
       "      <td>ddUyU0VZz0BRneMioxUPQVP6sIxvM</td>\n",
       "      <td>www.ifamagazine.com</td>\n",
       "      <td>1394470371793</td>\n",
       "    </tr>\n",
       "    <tr>\n",
       "      <th>3</th>\n",
       "      <td>5</td>\n",
       "      <td>Fed's Plosser: Nasty Weather Has Curbed Job Gr...</td>\n",
       "      <td>http://www.moneynews.com/Economy/federal-reser...</td>\n",
       "      <td>Moneynews</td>\n",
       "      <td>b</td>\n",
       "      <td>ddUyU0VZz0BRneMioxUPQVP6sIxvM</td>\n",
       "      <td>www.moneynews.com</td>\n",
       "      <td>1394470372027</td>\n",
       "    </tr>\n",
       "    <tr>\n",
       "      <th>4</th>\n",
       "      <td>6</td>\n",
       "      <td>Plosser: Fed May Have to Accelerate Tapering Pace</td>\n",
       "      <td>http://www.nasdaq.com/article/plosser-fed-may-...</td>\n",
       "      <td>NASDAQ</td>\n",
       "      <td>b</td>\n",
       "      <td>ddUyU0VZz0BRneMioxUPQVP6sIxvM</td>\n",
       "      <td>www.nasdaq.com</td>\n",
       "      <td>1394470372212</td>\n",
       "    </tr>\n",
       "  </tbody>\n",
       "</table>\n",
       "</div>"
      ],
      "text/plain": [
       "   no                                           Headline  \\\n",
       "0   2  Fed's Charles Plosser sees high bar for change...   \n",
       "1   3  US open: Stocks fall after Fed official hints ...   \n",
       "2   4  Fed risks falling 'behind the curve', Charles ...   \n",
       "3   5  Fed's Plosser: Nasty Weather Has Curbed Job Gr...   \n",
       "4   6  Plosser: Fed May Have to Accelerate Tapering Pace   \n",
       "\n",
       "                                            Web_link      magazine Category  \\\n",
       "0  http://www.livemint.com/Politics/H2EvwJSK2VE6O...      Livemint        b   \n",
       "1  http://www.ifamagazine.com/news/us-open-stocks...  IFA Magazine        b   \n",
       "2  http://www.ifamagazine.com/news/fed-risks-fall...  IFA Magazine        b   \n",
       "3  http://www.moneynews.com/Economy/federal-reser...     Moneynews        b   \n",
       "4  http://www.nasdaq.com/article/plosser-fed-may-...        NASDAQ        b   \n",
       "\n",
       "                             Non     magazine_website      unix_time  \n",
       "0  ddUyU0VZz0BRneMioxUPQVP6sIxvM     www.livemint.com  1394470371207  \n",
       "1  ddUyU0VZz0BRneMioxUPQVP6sIxvM  www.ifamagazine.com  1394470371550  \n",
       "2  ddUyU0VZz0BRneMioxUPQVP6sIxvM  www.ifamagazine.com  1394470371793  \n",
       "3  ddUyU0VZz0BRneMioxUPQVP6sIxvM    www.moneynews.com  1394470372027  \n",
       "4  ddUyU0VZz0BRneMioxUPQVP6sIxvM       www.nasdaq.com  1394470372212  "
      ]
     },
     "execution_count": 4,
     "metadata": {},
     "output_type": "execute_result"
    }
   ],
   "source": [
    "df.head()"
   ]
  },
  {
   "cell_type": "code",
   "execution_count": 32,
   "metadata": {},
   "outputs": [
    {
     "data": {
      "text/html": [
       "<div>\n",
       "<style scoped>\n",
       "    .dataframe tbody tr th:only-of-type {\n",
       "        vertical-align: middle;\n",
       "    }\n",
       "\n",
       "    .dataframe tbody tr th {\n",
       "        vertical-align: top;\n",
       "    }\n",
       "\n",
       "    .dataframe thead th {\n",
       "        text-align: right;\n",
       "    }\n",
       "</style>\n",
       "<table border=\"1\" class=\"dataframe\">\n",
       "  <thead>\n",
       "    <tr style=\"text-align: right;\">\n",
       "      <th></th>\n",
       "      <th>index</th>\n",
       "      <th>no</th>\n",
       "      <th>Headline</th>\n",
       "      <th>Web_link</th>\n",
       "      <th>magazine</th>\n",
       "      <th>Category</th>\n",
       "      <th>Non</th>\n",
       "      <th>magazine_website</th>\n",
       "      <th>unix_time</th>\n",
       "    </tr>\n",
       "  </thead>\n",
       "  <tbody>\n",
       "    <tr>\n",
       "      <th>0</th>\n",
       "      <td>0</td>\n",
       "      <td>2</td>\n",
       "      <td>Fed's Charles Plosser sees high bar for change...</td>\n",
       "      <td>http://www.livemint.com/Politics/H2EvwJSK2VE6O...</td>\n",
       "      <td>Livemint</td>\n",
       "      <td>b</td>\n",
       "      <td>ddUyU0VZz0BRneMioxUPQVP6sIxvM</td>\n",
       "      <td>www.livemint.com</td>\n",
       "      <td>1394470371207</td>\n",
       "    </tr>\n",
       "    <tr>\n",
       "      <th>1</th>\n",
       "      <td>1</td>\n",
       "      <td>3</td>\n",
       "      <td>US open: Stocks fall after Fed official hints ...</td>\n",
       "      <td>http://www.ifamagazine.com/news/us-open-stocks...</td>\n",
       "      <td>IFA Magazine</td>\n",
       "      <td>b</td>\n",
       "      <td>ddUyU0VZz0BRneMioxUPQVP6sIxvM</td>\n",
       "      <td>www.ifamagazine.com</td>\n",
       "      <td>1394470371550</td>\n",
       "    </tr>\n",
       "    <tr>\n",
       "      <th>2</th>\n",
       "      <td>2</td>\n",
       "      <td>4</td>\n",
       "      <td>Fed risks falling 'behind the curve', Charles ...</td>\n",
       "      <td>http://www.ifamagazine.com/news/fed-risks-fall...</td>\n",
       "      <td>IFA Magazine</td>\n",
       "      <td>b</td>\n",
       "      <td>ddUyU0VZz0BRneMioxUPQVP6sIxvM</td>\n",
       "      <td>www.ifamagazine.com</td>\n",
       "      <td>1394470371793</td>\n",
       "    </tr>\n",
       "    <tr>\n",
       "      <th>3</th>\n",
       "      <td>3</td>\n",
       "      <td>5</td>\n",
       "      <td>Fed's Plosser: Nasty Weather Has Curbed Job Gr...</td>\n",
       "      <td>http://www.moneynews.com/Economy/federal-reser...</td>\n",
       "      <td>Moneynews</td>\n",
       "      <td>b</td>\n",
       "      <td>ddUyU0VZz0BRneMioxUPQVP6sIxvM</td>\n",
       "      <td>www.moneynews.com</td>\n",
       "      <td>1394470372027</td>\n",
       "    </tr>\n",
       "    <tr>\n",
       "      <th>4</th>\n",
       "      <td>4</td>\n",
       "      <td>6</td>\n",
       "      <td>Plosser: Fed May Have to Accelerate Tapering Pace</td>\n",
       "      <td>http://www.nasdaq.com/article/plosser-fed-may-...</td>\n",
       "      <td>NASDAQ</td>\n",
       "      <td>b</td>\n",
       "      <td>ddUyU0VZz0BRneMioxUPQVP6sIxvM</td>\n",
       "      <td>www.nasdaq.com</td>\n",
       "      <td>1394470372212</td>\n",
       "    </tr>\n",
       "  </tbody>\n",
       "</table>\n",
       "</div>"
      ],
      "text/plain": [
       "   index  no                                           Headline  \\\n",
       "0      0   2  Fed's Charles Plosser sees high bar for change...   \n",
       "1      1   3  US open: Stocks fall after Fed official hints ...   \n",
       "2      2   4  Fed risks falling 'behind the curve', Charles ...   \n",
       "3      3   5  Fed's Plosser: Nasty Weather Has Curbed Job Gr...   \n",
       "4      4   6  Plosser: Fed May Have to Accelerate Tapering Pace   \n",
       "\n",
       "                                            Web_link      magazine Category  \\\n",
       "0  http://www.livemint.com/Politics/H2EvwJSK2VE6O...      Livemint        b   \n",
       "1  http://www.ifamagazine.com/news/us-open-stocks...  IFA Magazine        b   \n",
       "2  http://www.ifamagazine.com/news/fed-risks-fall...  IFA Magazine        b   \n",
       "3  http://www.moneynews.com/Economy/federal-reser...     Moneynews        b   \n",
       "4  http://www.nasdaq.com/article/plosser-fed-may-...        NASDAQ        b   \n",
       "\n",
       "                             Non     magazine_website      unix_time  \n",
       "0  ddUyU0VZz0BRneMioxUPQVP6sIxvM     www.livemint.com  1394470371207  \n",
       "1  ddUyU0VZz0BRneMioxUPQVP6sIxvM  www.ifamagazine.com  1394470371550  \n",
       "2  ddUyU0VZz0BRneMioxUPQVP6sIxvM  www.ifamagazine.com  1394470371793  \n",
       "3  ddUyU0VZz0BRneMioxUPQVP6sIxvM    www.moneynews.com  1394470372027  \n",
       "4  ddUyU0VZz0BRneMioxUPQVP6sIxvM       www.nasdaq.com  1394470372212  "
      ]
     },
     "execution_count": 32,
     "metadata": {},
     "output_type": "execute_result"
    }
   ],
   "source": [
    "df.reset_index().head()"
   ]
  },
  {
   "cell_type": "markdown",
   "metadata": {},
   "source": [
    "## Data Cleaning"
   ]
  },
  {
   "cell_type": "code",
   "execution_count": 5,
   "metadata": {},
   "outputs": [],
   "source": [
    "df1=df.drop(['Non'],axis=1) # droping columns which have no meaning"
   ]
  },
  {
   "cell_type": "code",
   "execution_count": 6,
   "metadata": {},
   "outputs": [
    {
     "data": {
      "text/plain": [
       "no                  0\n",
       "Headline            0\n",
       "Web_link            0\n",
       "magazine            2\n",
       "Category            0\n",
       "magazine_website    0\n",
       "unix_time           0\n",
       "dtype: int64"
      ]
     },
     "execution_count": 6,
     "metadata": {},
     "output_type": "execute_result"
    }
   ],
   "source": [
    "df1.isnull().sum() # looking for nan values"
   ]
  },
  {
   "cell_type": "code",
   "execution_count": 7,
   "metadata": {},
   "outputs": [],
   "source": [
    "e= df[df.magazine.isna()].magazine_website.tolist()"
   ]
  },
  {
   "cell_type": "code",
   "execution_count": 8,
   "metadata": {},
   "outputs": [
    {
     "data": {
      "text/plain": [
       "['denver.cbslocal.com', 'dfw.cbslocal.com']"
      ]
     },
     "execution_count": 8,
     "metadata": {},
     "output_type": "execute_result"
    }
   ],
   "source": [
    "e"
   ]
  },
  {
   "cell_type": "code",
   "execution_count": 9,
   "metadata": {},
   "outputs": [],
   "source": [
    "f=[] # finding similar values and replacing nan values\n",
    "for i in range(0,len(e)):\n",
    "    f.append(df1[df1.magazine_website == e[i]].magazine.tolist()[i])"
   ]
  },
  {
   "cell_type": "code",
   "execution_count": 10,
   "metadata": {},
   "outputs": [
    {
     "data": {
      "text/plain": [
       "['CBS Local', 'CBS Local']"
      ]
     },
     "execution_count": 10,
     "metadata": {},
     "output_type": "execute_result"
    }
   ],
   "source": [
    "f"
   ]
  },
  {
   "cell_type": "code",
   "execution_count": 11,
   "metadata": {},
   "outputs": [
    {
     "data": {
      "text/plain": [
       "no                  0\n",
       "Headline            0\n",
       "Web_link            0\n",
       "magazine            2\n",
       "Category            0\n",
       "magazine_website    0\n",
       "unix_time           0\n",
       "dtype: int64"
      ]
     },
     "execution_count": 11,
     "metadata": {},
     "output_type": "execute_result"
    }
   ],
   "source": [
    "df1.isnull().sum()"
   ]
  },
  {
   "cell_type": "code",
   "execution_count": 12,
   "metadata": {},
   "outputs": [
    {
     "data": {
      "text/plain": [
       "10986"
      ]
     },
     "execution_count": 12,
     "metadata": {},
     "output_type": "execute_result"
    }
   ],
   "source": [
    "len(df.magazine.unique().tolist())"
   ]
  },
  {
   "cell_type": "markdown",
   "metadata": {},
   "source": [
    "Unix time "
   ]
  },
  {
   "cell_type": "code",
   "execution_count": 13,
   "metadata": {},
   "outputs": [
    {
     "data": {
      "text/plain": [
       "0    1394470371207\n",
       "1    1394470371550\n",
       "2    1394470371793\n",
       "3    1394470372027\n",
       "4    1394470372212\n",
       "Name: unix_time, dtype: int64"
      ]
     },
     "execution_count": 13,
     "metadata": {},
     "output_type": "execute_result"
    }
   ],
   "source": [
    "df1['unix_time'].head() "
   ]
  },
  {
   "cell_type": "code",
   "execution_count": 14,
   "metadata": {},
   "outputs": [],
   "source": [
    "df1[\"datetime\"] = \"\""
   ]
  },
  {
   "cell_type": "code",
   "execution_count": 15,
   "metadata": {},
   "outputs": [],
   "source": [
    "df1['datetime'] = pd.to_datetime(df1['unix_time'], unit='ms') # changing epoch time into readable format"
   ]
  },
  {
   "cell_type": "code",
   "execution_count": 16,
   "metadata": {},
   "outputs": [
    {
     "data": {
      "text/html": [
       "<div>\n",
       "<style scoped>\n",
       "    .dataframe tbody tr th:only-of-type {\n",
       "        vertical-align: middle;\n",
       "    }\n",
       "\n",
       "    .dataframe tbody tr th {\n",
       "        vertical-align: top;\n",
       "    }\n",
       "\n",
       "    .dataframe thead th {\n",
       "        text-align: right;\n",
       "    }\n",
       "</style>\n",
       "<table border=\"1\" class=\"dataframe\">\n",
       "  <thead>\n",
       "    <tr style=\"text-align: right;\">\n",
       "      <th></th>\n",
       "      <th>no</th>\n",
       "      <th>Headline</th>\n",
       "      <th>Web_link</th>\n",
       "      <th>magazine</th>\n",
       "      <th>Category</th>\n",
       "      <th>magazine_website</th>\n",
       "      <th>unix_time</th>\n",
       "      <th>datetime</th>\n",
       "    </tr>\n",
       "  </thead>\n",
       "  <tbody>\n",
       "    <tr>\n",
       "      <th>421418</th>\n",
       "      <td>421938</td>\n",
       "      <td>John Stamos and producers looking into revivin...</td>\n",
       "      <td>http://thecelebritycafe.com/feature/2014/08/jo...</td>\n",
       "      <td>TheCelebrityCafe.com</td>\n",
       "      <td>e</td>\n",
       "      <td>thecelebritycafe.com</td>\n",
       "      <td>1409222393829</td>\n",
       "      <td>2014-08-28 10:39:53.829</td>\n",
       "    </tr>\n",
       "    <tr>\n",
       "      <th>421419</th>\n",
       "      <td>421939</td>\n",
       "      <td>'Full House' Reunion Happening? New Casting Re...</td>\n",
       "      <td>http://www.hollywoodtake.com/full-house-reunio...</td>\n",
       "      <td>Hollywood Take</td>\n",
       "      <td>e</td>\n",
       "      <td>www.hollywoodtake.com</td>\n",
       "      <td>1409222394035</td>\n",
       "      <td>2014-08-28 10:39:54.035</td>\n",
       "    </tr>\n",
       "    <tr>\n",
       "      <th>421420</th>\n",
       "      <td>421940</td>\n",
       "      <td>Full House Revival: Possibly on the Way!</td>\n",
       "      <td>http://www.thehollywoodgossip.com/2014/08/full...</td>\n",
       "      <td>The Hollywood Gossip</td>\n",
       "      <td>e</td>\n",
       "      <td>www.thehollywoodgossip.com</td>\n",
       "      <td>1409222394482</td>\n",
       "      <td>2014-08-28 10:39:54.482</td>\n",
       "    </tr>\n",
       "    <tr>\n",
       "      <th>421421</th>\n",
       "      <td>421941</td>\n",
       "      <td>Full House Might Be Coming Back</td>\n",
       "      <td>http://www.gossipcop.com/full-house-coming-bac...</td>\n",
       "      <td>Gossip Cop</td>\n",
       "      <td>e</td>\n",
       "      <td>www.gossipcop.com</td>\n",
       "      <td>1409222394700</td>\n",
       "      <td>2014-08-28 10:39:54.700</td>\n",
       "    </tr>\n",
       "    <tr>\n",
       "      <th>421422</th>\n",
       "      <td>421942</td>\n",
       "      <td>Breaking News: Full House Reunion Series Plann...</td>\n",
       "      <td>http://insidepulse.com/2014/08/26/breaking-new...</td>\n",
       "      <td>Inside Pulse</td>\n",
       "      <td>e</td>\n",
       "      <td>insidepulse.com</td>\n",
       "      <td>1409222394970</td>\n",
       "      <td>2014-08-28 10:39:54.970</td>\n",
       "    </tr>\n",
       "    <tr>\n",
       "      <th>421423</th>\n",
       "      <td>421943</td>\n",
       "      <td>Full House may be getting revived by Warner Bros</td>\n",
       "      <td>http://fansided.com/2014/08/26/full-house-new-...</td>\n",
       "      <td>FanSided</td>\n",
       "      <td>e</td>\n",
       "      <td>fansided.com</td>\n",
       "      <td>1409222395391</td>\n",
       "      <td>2014-08-28 10:39:55.391</td>\n",
       "    </tr>\n",
       "    <tr>\n",
       "      <th>421424</th>\n",
       "      <td>421944</td>\n",
       "      <td>Cut It Out! Full House Revival Closer Than Eve...</td>\n",
       "      <td>http://www.cinemablend.com/television/Cut-It-O...</td>\n",
       "      <td>Cinema Blend</td>\n",
       "      <td>e</td>\n",
       "      <td>www.cinemablend.com</td>\n",
       "      <td>1409222395644</td>\n",
       "      <td>2014-08-28 10:39:55.644</td>\n",
       "    </tr>\n",
       "    <tr>\n",
       "      <th>421425</th>\n",
       "      <td>421945</td>\n",
       "      <td>Full House reboot in development with many ori...</td>\n",
       "      <td>http://starcasm.net/archives/285347</td>\n",
       "      <td>Starcasm.net</td>\n",
       "      <td>e</td>\n",
       "      <td>starcasm.net</td>\n",
       "      <td>1409222395874</td>\n",
       "      <td>2014-08-28 10:39:55.874</td>\n",
       "    </tr>\n",
       "    <tr>\n",
       "      <th>421426</th>\n",
       "      <td>421946</td>\n",
       "      <td>God Help Us: Is Full House Really Coming Back ...</td>\n",
       "      <td>http://www.inquisitr.com/1434623/god-help-us-i...</td>\n",
       "      <td>The Inquisitr</td>\n",
       "      <td>e</td>\n",
       "      <td>www.inquisitr.com</td>\n",
       "      <td>1409222396234</td>\n",
       "      <td>2014-08-28 10:39:56.234</td>\n",
       "    </tr>\n",
       "    <tr>\n",
       "      <th>421427</th>\n",
       "      <td>421947</td>\n",
       "      <td>Report: 'Full House' Revival In The Works</td>\n",
       "      <td>http://www.etcanada.com/blogs/etc_109465/repor...</td>\n",
       "      <td>ETCanada.com \\(blog\\)</td>\n",
       "      <td>e</td>\n",
       "      <td>www.etcanada.com</td>\n",
       "      <td>1409222396470</td>\n",
       "      <td>2014-08-28 10:39:56.470</td>\n",
       "    </tr>\n",
       "    <tr>\n",
       "      <th>421428</th>\n",
       "      <td>421948</td>\n",
       "      <td>Full House Remake: Actually in the Works?</td>\n",
       "      <td>http://www.tvfanatic.com/2014/08/full-house-re...</td>\n",
       "      <td>TV Fanatic</td>\n",
       "      <td>e</td>\n",
       "      <td>www.tvfanatic.com</td>\n",
       "      <td>1409222396733</td>\n",
       "      <td>2014-08-28 10:39:56.733</td>\n",
       "    </tr>\n",
       "    <tr>\n",
       "      <th>421429</th>\n",
       "      <td>421949</td>\n",
       "      <td>Have Mercy! Warner Bros. Reviving FULL HOUSE?</td>\n",
       "      <td>http://www.broadwayworld.com/bwwtv/article/Hav...</td>\n",
       "      <td>Broadway World</td>\n",
       "      <td>e</td>\n",
       "      <td>www.broadwayworld.com</td>\n",
       "      <td>1409222397174</td>\n",
       "      <td>2014-08-28 10:39:57.174</td>\n",
       "    </tr>\n",
       "    <tr>\n",
       "      <th>421430</th>\n",
       "      <td>421950</td>\n",
       "      <td>Full House might be coming back to TV</td>\n",
       "      <td>http://theweek.com/article/index/267078/full-h...</td>\n",
       "      <td>The Week Magazine</td>\n",
       "      <td>e</td>\n",
       "      <td>theweek.com</td>\n",
       "      <td>1409222397951</td>\n",
       "      <td>2014-08-28 10:39:57.951</td>\n",
       "    </tr>\n",
       "    <tr>\n",
       "      <th>421431</th>\n",
       "      <td>421951</td>\n",
       "      <td>Warner Bros. TV eyes possible 'Full House' rev...</td>\n",
       "      <td>http://insidetv.ew.com/2014/08/26/full-house-r...</td>\n",
       "      <td>Entertainment Weekly</td>\n",
       "      <td>e</td>\n",
       "      <td>insidetv.ew.com</td>\n",
       "      <td>1409222398317</td>\n",
       "      <td>2014-08-28 10:39:58.317</td>\n",
       "    </tr>\n",
       "    <tr>\n",
       "      <th>421432</th>\n",
       "      <td>421952</td>\n",
       "      <td>Full House could be coming back to television</td>\n",
       "      <td>http://www.avclub.com/article/full-house-could...</td>\n",
       "      <td>A.V. Club \\(blog\\)</td>\n",
       "      <td>e</td>\n",
       "      <td>www.avclub.com</td>\n",
       "      <td>1409222398581</td>\n",
       "      <td>2014-08-28 10:39:58.581</td>\n",
       "    </tr>\n",
       "    <tr>\n",
       "      <th>421433</th>\n",
       "      <td>421953</td>\n",
       "      <td>Karrueche Tran And Blue Ivy Diss Scandal Rages...</td>\n",
       "      <td>http://www.entertainmentwise.com/news/156419/K...</td>\n",
       "      <td>Entertainmentwise</td>\n",
       "      <td>e</td>\n",
       "      <td>www.entertainmentwise.com</td>\n",
       "      <td>1409223267137</td>\n",
       "      <td>2014-08-28 10:54:27.137</td>\n",
       "    </tr>\n",
       "    <tr>\n",
       "      <th>421434</th>\n",
       "      <td>421954</td>\n",
       "      <td>Source: BET suspends producer after Blue Ivy joke</td>\n",
       "      <td>http://townhall.com/news/entertainment/2014/08...</td>\n",
       "      <td>Town Hall</td>\n",
       "      <td>e</td>\n",
       "      <td>townhall.com</td>\n",
       "      <td>1409223267418</td>\n",
       "      <td>2014-08-28 10:54:27.418</td>\n",
       "    </tr>\n",
       "    <tr>\n",
       "      <th>421435</th>\n",
       "      <td>421955</td>\n",
       "      <td>Karrueche Tran pokes fun at Blue Ivy's hair</td>\n",
       "      <td>http://www.sowetanlive.co.za/entertainment/201...</td>\n",
       "      <td>Sowetan</td>\n",
       "      <td>e</td>\n",
       "      <td>www.sowetanlive.co.za</td>\n",
       "      <td>1409223267884</td>\n",
       "      <td>2014-08-28 10:54:27.884</td>\n",
       "    </tr>\n",
       "    <tr>\n",
       "      <th>421436</th>\n",
       "      <td>421956</td>\n",
       "      <td>Karrueche Tran Pleads For Mercy While Apologiz...</td>\n",
       "      <td>http://chicagodefender.com/2014/08/27/karruech...</td>\n",
       "      <td>Chicago Defender</td>\n",
       "      <td>e</td>\n",
       "      <td>chicagodefender.com</td>\n",
       "      <td>1409223268269</td>\n",
       "      <td>2014-08-28 10:54:28.269</td>\n",
       "    </tr>\n",
       "    <tr>\n",
       "      <th>421437</th>\n",
       "      <td>421957</td>\n",
       "      <td>US channel suspends producer after Blue Ivy joke</td>\n",
       "      <td>http://gulfnews.com/arts-entertainment/celebri...</td>\n",
       "      <td>gulfnews.com</td>\n",
       "      <td>e</td>\n",
       "      <td>gulfnews.com</td>\n",
       "      <td>1409223268601</td>\n",
       "      <td>2014-08-28 10:54:28.601</td>\n",
       "    </tr>\n",
       "    <tr>\n",
       "      <th>421438</th>\n",
       "      <td>421958</td>\n",
       "      <td>Fallon will host nods to Leno</td>\n",
       "      <td>http://www.journalgazette.net/article/20140828...</td>\n",
       "      <td>Fort Wayne Journal Gazette</td>\n",
       "      <td>e</td>\n",
       "      <td>www.journalgazette.net</td>\n",
       "      <td>1409223268882</td>\n",
       "      <td>2014-08-28 10:54:28.882</td>\n",
       "    </tr>\n",
       "    <tr>\n",
       "      <th>421439</th>\n",
       "      <td>421959</td>\n",
       "      <td>BET's Stephen Hill Apologizes to Beyonce and K...</td>\n",
       "      <td>http://newpittsburghcourieronline.com/2014/08/...</td>\n",
       "      <td>New Pittsburgh Courier</td>\n",
       "      <td>e</td>\n",
       "      <td>newpittsburghcourieronline.com</td>\n",
       "      <td>1409223269194</td>\n",
       "      <td>2014-08-28 10:54:29.194</td>\n",
       "    </tr>\n",
       "    <tr>\n",
       "      <th>421440</th>\n",
       "      <td>421960</td>\n",
       "      <td>Karrueche Tran Begs for Mercy and Forgiveness ...</td>\n",
       "      <td>http://newpittsburghcourieronline.com/2014/08/...</td>\n",
       "      <td>New Pittsburgh Courier</td>\n",
       "      <td>e</td>\n",
       "      <td>newpittsburghcourieronline.com</td>\n",
       "      <td>1409223269545</td>\n",
       "      <td>2014-08-28 10:54:29.545</td>\n",
       "    </tr>\n",
       "    <tr>\n",
       "      <th>421441</th>\n",
       "      <td>421961</td>\n",
       "      <td>Producer suspended over Blue Ivy joke</td>\n",
       "      <td>http://www.iol.co.za/tonight/tv-radio/producer...</td>\n",
       "      <td>Independent Online</td>\n",
       "      <td>e</td>\n",
       "      <td>www.iol.co.za</td>\n",
       "      <td>1409223269782</td>\n",
       "      <td>2014-08-28 10:54:29.782</td>\n",
       "    </tr>\n",
       "    <tr>\n",
       "      <th>421442</th>\n",
       "      <td>421962</td>\n",
       "      <td>Karrueche Tran and BET Apologize For Dissing B...</td>\n",
       "      <td>http://www.chinatopix.com/articles/8145/201408...</td>\n",
       "      <td>Chinatopix</td>\n",
       "      <td>e</td>\n",
       "      <td>www.chinatopix.com</td>\n",
       "      <td>1409223270030</td>\n",
       "      <td>2014-08-28 10:54:30.030</td>\n",
       "    </tr>\n",
       "    <tr>\n",
       "      <th>421443</th>\n",
       "      <td>421963</td>\n",
       "      <td>Beyonce mocked for 'not combing' Blue Ivy's hair</td>\n",
       "      <td>http://www.capitalfm.co.ke/lifestyle/2014/08/2...</td>\n",
       "      <td>Capital FM Kenya</td>\n",
       "      <td>e</td>\n",
       "      <td>www.capitalfm.co.ke</td>\n",
       "      <td>1409223270362</td>\n",
       "      <td>2014-08-28 10:54:30.362</td>\n",
       "    </tr>\n",
       "    <tr>\n",
       "      <th>421444</th>\n",
       "      <td>421964</td>\n",
       "      <td>Apologies To Beyonce And Jay Z Not Enough, BET...</td>\n",
       "      <td>http://au.ibtimes.com/articles/564291/20140828...</td>\n",
       "      <td>International Business Times AU</td>\n",
       "      <td>e</td>\n",
       "      <td>au.ibtimes.com</td>\n",
       "      <td>1409223270786</td>\n",
       "      <td>2014-08-28 10:54:30.786</td>\n",
       "    </tr>\n",
       "    <tr>\n",
       "      <th>421445</th>\n",
       "      <td>421965</td>\n",
       "      <td>Karrueche Tran, BET Exec Apologize for Dissing...</td>\n",
       "      <td>http://www.aceshowbiz.com/news/view/00074313.html</td>\n",
       "      <td>AceShowbiz</td>\n",
       "      <td>e</td>\n",
       "      <td>www.aceshowbiz.com</td>\n",
       "      <td>1409223271014</td>\n",
       "      <td>2014-08-28 10:54:31.014</td>\n",
       "    </tr>\n",
       "    <tr>\n",
       "      <th>421446</th>\n",
       "      <td>421966</td>\n",
       "      <td>BET Suspends Producer After Making Bad Joke Ab...</td>\n",
       "      <td>http://www.aceshowbiz.com/news/view/00074352.html</td>\n",
       "      <td>AceShowbiz</td>\n",
       "      <td>e</td>\n",
       "      <td>www.aceshowbiz.com</td>\n",
       "      <td>1409223271296</td>\n",
       "      <td>2014-08-28 10:54:31.296</td>\n",
       "    </tr>\n",
       "    <tr>\n",
       "      <th>421447</th>\n",
       "      <td>421967</td>\n",
       "      <td>AP Source: BET suspends producer after joke ab...</td>\n",
       "      <td>http://www.lillooetnews.net/ap-source-bet-susp...</td>\n",
       "      <td>Bridge River Lillooet News</td>\n",
       "      <td>e</td>\n",
       "      <td>www.lillooetnews.net</td>\n",
       "      <td>1409223271498</td>\n",
       "      <td>2014-08-28 10:54:31.498</td>\n",
       "    </tr>\n",
       "    <tr>\n",
       "      <th>...</th>\n",
       "      <td>...</td>\n",
       "      <td>...</td>\n",
       "      <td>...</td>\n",
       "      <td>...</td>\n",
       "      <td>...</td>\n",
       "      <td>...</td>\n",
       "      <td>...</td>\n",
       "      <td>...</td>\n",
       "    </tr>\n",
       "    <tr>\n",
       "      <th>422388</th>\n",
       "      <td>422908</td>\n",
       "      <td>CDC director says Liberia Ebola outbreak to ge...</td>\n",
       "      <td>http://www.dw.de/cdc-director-says-liberia-ebo...</td>\n",
       "      <td>Deutsche Welle</td>\n",
       "      <td>m</td>\n",
       "      <td>www.dw.de</td>\n",
       "      <td>1409228452081</td>\n",
       "      <td>2014-08-28 12:20:52.081</td>\n",
       "    </tr>\n",
       "    <tr>\n",
       "      <th>422389</th>\n",
       "      <td>422909</td>\n",
       "      <td>France Asks Citizens to Avoid Liberia, Sierra ...</td>\n",
       "      <td>http://english.chosun.com/site/data/html_dir/2...</td>\n",
       "      <td>The Chosun Ilbo</td>\n",
       "      <td>m</td>\n",
       "      <td>english.chosun.com</td>\n",
       "      <td>1409228452319</td>\n",
       "      <td>2014-08-28 12:20:52.319</td>\n",
       "    </tr>\n",
       "    <tr>\n",
       "      <th>422390</th>\n",
       "      <td>422910</td>\n",
       "      <td>Ebola-infected doctor in Sierra Leone, Sahr Ro...</td>\n",
       "      <td>http://www.cbc.ca/news/health/ebola-infected-d...</td>\n",
       "      <td>CBC.ca</td>\n",
       "      <td>m</td>\n",
       "      <td>www.cbc.ca</td>\n",
       "      <td>1409228452728</td>\n",
       "      <td>2014-08-28 12:20:52.728</td>\n",
       "    </tr>\n",
       "    <tr>\n",
       "      <th>422391</th>\n",
       "      <td>422911</td>\n",
       "      <td>Ebola zone nations isolated as airlines stop f...</td>\n",
       "      <td>http://www.brecorder.com/general-news/172/1218...</td>\n",
       "      <td>Business Recorder</td>\n",
       "      <td>m</td>\n",
       "      <td>www.brecorder.com</td>\n",
       "      <td>1409228453085</td>\n",
       "      <td>2014-08-28 12:20:53.085</td>\n",
       "    </tr>\n",
       "    <tr>\n",
       "      <th>422392</th>\n",
       "      <td>422912</td>\n",
       "      <td>28/08/2014Ebola response 'dangerously inadequa...</td>\n",
       "      <td>http://www.expatica.com/be/news/belgian-news/e...</td>\n",
       "      <td>Expatica Belguim</td>\n",
       "      <td>m</td>\n",
       "      <td>www.expatica.com</td>\n",
       "      <td>1409228453432</td>\n",
       "      <td>2014-08-28 12:20:53.432</td>\n",
       "    </tr>\n",
       "    <tr>\n",
       "      <th>422393</th>\n",
       "      <td>422913</td>\n",
       "      <td>Glaxo's Ebola vaccine may begin safety tests i...</td>\n",
       "      <td>http://www.panews.com/cnhi_network/article_e92...</td>\n",
       "      <td>The Port Arthur News</td>\n",
       "      <td>m</td>\n",
       "      <td>www.panews.com</td>\n",
       "      <td>1409228453652</td>\n",
       "      <td>2014-08-28 12:20:53.652</td>\n",
       "    </tr>\n",
       "    <tr>\n",
       "      <th>422394</th>\n",
       "      <td>422914</td>\n",
       "      <td>Ebola causing huge damage to West African econ...</td>\n",
       "      <td>http://www.moneyweb.co.za/moneyweb-internation...</td>\n",
       "      <td>Moneyweb.co.za</td>\n",
       "      <td>m</td>\n",
       "      <td>www.moneyweb.co.za</td>\n",
       "      <td>1409228453918</td>\n",
       "      <td>2014-08-28 12:20:53.918</td>\n",
       "    </tr>\n",
       "    <tr>\n",
       "      <th>422395</th>\n",
       "      <td>422915</td>\n",
       "      <td>Ebola outbreak: 'It's even worse than I'd feared'</td>\n",
       "      <td>http://q13fox.com/2014/08/27/ebola-outbreak-it...</td>\n",
       "      <td>Q13 FOX</td>\n",
       "      <td>m</td>\n",
       "      <td>q13fox.com</td>\n",
       "      <td>1409228454366</td>\n",
       "      <td>2014-08-28 12:20:54.366</td>\n",
       "    </tr>\n",
       "    <tr>\n",
       "      <th>422396</th>\n",
       "      <td>422916</td>\n",
       "      <td>CDC: Ebola outbreak 'even worse than I'd feared'</td>\n",
       "      <td>http://kfor.com/2014/08/27/cdc-ebola-outbreak-...</td>\n",
       "      <td>kfor.com</td>\n",
       "      <td>m</td>\n",
       "      <td>kfor.com</td>\n",
       "      <td>1409228454637</td>\n",
       "      <td>2014-08-28 12:20:54.637</td>\n",
       "    </tr>\n",
       "    <tr>\n",
       "      <th>422397</th>\n",
       "      <td>422917</td>\n",
       "      <td>Ebola Virus Disease in the Democratic Republic...</td>\n",
       "      <td>http://www.infectioncontroltoday.com/news/2014...</td>\n",
       "      <td>Infection Control Today</td>\n",
       "      <td>m</td>\n",
       "      <td>www.infectioncontroltoday.com</td>\n",
       "      <td>1409228454932</td>\n",
       "      <td>2014-08-28 12:20:54.932</td>\n",
       "    </tr>\n",
       "    <tr>\n",
       "      <th>422398</th>\n",
       "      <td>422918</td>\n",
       "      <td>CDC Chief Warns Liberia Ebola Crisis 'Will Get...</td>\n",
       "      <td>http://www.newsmax.com/Newsfront/Health-Ebola-...</td>\n",
       "      <td>Newsmax.com</td>\n",
       "      <td>m</td>\n",
       "      <td>www.newsmax.com</td>\n",
       "      <td>1409228455249</td>\n",
       "      <td>2014-08-28 12:20:55.249</td>\n",
       "    </tr>\n",
       "    <tr>\n",
       "      <th>422399</th>\n",
       "      <td>422919</td>\n",
       "      <td>UPDATE 3-Ebola causing huge damage to W.Africa...</td>\n",
       "      <td>http://af.reuters.com/article/guineaNews/idAFL...</td>\n",
       "      <td>Reuters Africa</td>\n",
       "      <td>m</td>\n",
       "      <td>af.reuters.com</td>\n",
       "      <td>1409228455497</td>\n",
       "      <td>2014-08-28 12:20:55.497</td>\n",
       "    </tr>\n",
       "    <tr>\n",
       "      <th>422400</th>\n",
       "      <td>422920</td>\n",
       "      <td>WHO removes staff from Sierra Leone Ebola cent...</td>\n",
       "      <td>http://www.bignewsnetwork.com/index.php/sid/22...</td>\n",
       "      <td>Big News Network.com</td>\n",
       "      <td>m</td>\n",
       "      <td>www.bignewsnetwork.com</td>\n",
       "      <td>1409228455693</td>\n",
       "      <td>2014-08-28 12:20:55.693</td>\n",
       "    </tr>\n",
       "    <tr>\n",
       "      <th>422401</th>\n",
       "      <td>422921</td>\n",
       "      <td>Ebola causing huge damage to W Africa economie...</td>\n",
       "      <td>http://economictimes.indiatimes.com/news/inter...</td>\n",
       "      <td>Economic Times</td>\n",
       "      <td>m</td>\n",
       "      <td>economictimes.indiatimes.com</td>\n",
       "      <td>1409228455934</td>\n",
       "      <td>2014-08-28 12:20:55.934</td>\n",
       "    </tr>\n",
       "    <tr>\n",
       "      <th>422402</th>\n",
       "      <td>422922</td>\n",
       "      <td>Democratic Republic of Congo reports Ebola out...</td>\n",
       "      <td>http://news.xinhuanet.com/english/health/2014-...</td>\n",
       "      <td>Xinhua</td>\n",
       "      <td>m</td>\n",
       "      <td>news.xinhuanet.com</td>\n",
       "      <td>1409228456566</td>\n",
       "      <td>2014-08-28 12:20:56.566</td>\n",
       "    </tr>\n",
       "    <tr>\n",
       "      <th>422403</th>\n",
       "      <td>422923</td>\n",
       "      <td>British Ebola sufferer gets new drug</td>\n",
       "      <td>http://www.echo.net.au/2014/08/british-ebola-s...</td>\n",
       "      <td>Echonetdaily</td>\n",
       "      <td>m</td>\n",
       "      <td>www.echo.net.au</td>\n",
       "      <td>1409228456773</td>\n",
       "      <td>2014-08-28 12:20:56.773</td>\n",
       "    </tr>\n",
       "    <tr>\n",
       "      <th>422404</th>\n",
       "      <td>422924</td>\n",
       "      <td>AFDB Boss Says Ebola Infected Countries May Lo...</td>\n",
       "      <td>http://leadership.ng/business/382219/afdb-boss...</td>\n",
       "      <td>Leadership Newspapers</td>\n",
       "      <td>m</td>\n",
       "      <td>leadership.ng</td>\n",
       "      <td>1409228457129</td>\n",
       "      <td>2014-08-28 12:20:57.129</td>\n",
       "    </tr>\n",
       "    <tr>\n",
       "      <th>422405</th>\n",
       "      <td>422925</td>\n",
       "      <td>Cincinnati Children's to rebuild boy's throat ...</td>\n",
       "      <td>http://www.bizjournals.com/cincinnati/news/201...</td>\n",
       "      <td>Cincinnati Business Courier</td>\n",
       "      <td>m</td>\n",
       "      <td>www.bizjournals.com</td>\n",
       "      <td>1409229187092</td>\n",
       "      <td>2014-08-28 12:33:07.092</td>\n",
       "    </tr>\n",
       "    <tr>\n",
       "      <th>422406</th>\n",
       "      <td>422926</td>\n",
       "      <td>Cincinnati doctors use child's rib to rebuild ...</td>\n",
       "      <td>http://www.jrn.com/kgun9/now-trending/Cincinna...</td>\n",
       "      <td>KGUN 9</td>\n",
       "      <td>m</td>\n",
       "      <td>www.jrn.com</td>\n",
       "      <td>1409229187393</td>\n",
       "      <td>2014-08-28 12:33:07.393</td>\n",
       "    </tr>\n",
       "    <tr>\n",
       "      <th>422407</th>\n",
       "      <td>422927</td>\n",
       "      <td>Cincinnati Children's surgeons rebuild throat ...</td>\n",
       "      <td>http://www.kptv.com/story/26378648/surgeons-re...</td>\n",
       "      <td>KPTV.com</td>\n",
       "      <td>m</td>\n",
       "      <td>www.kptv.com</td>\n",
       "      <td>1409229187741</td>\n",
       "      <td>2014-08-28 12:33:07.741</td>\n",
       "    </tr>\n",
       "    <tr>\n",
       "      <th>422408</th>\n",
       "      <td>422928</td>\n",
       "      <td>Surgeons remove 4-year-old's rib to rebuild da...</td>\n",
       "      <td>http://www.wnem.com/story/26378648/surgeons-re...</td>\n",
       "      <td>WNEM Saginaw</td>\n",
       "      <td>m</td>\n",
       "      <td>www.wnem.com</td>\n",
       "      <td>1409229188173</td>\n",
       "      <td>2014-08-28 12:33:08.173</td>\n",
       "    </tr>\n",
       "    <tr>\n",
       "      <th>422409</th>\n",
       "      <td>422929</td>\n",
       "      <td>Surgery update for boy who swallowed battery</td>\n",
       "      <td>http://www.local12.com/news/features/top-stori...</td>\n",
       "      <td>WKRC TV Cincinnati</td>\n",
       "      <td>m</td>\n",
       "      <td>www.local12.com</td>\n",
       "      <td>1409229188577</td>\n",
       "      <td>2014-08-28 12:33:08.577</td>\n",
       "    </tr>\n",
       "    <tr>\n",
       "      <th>422410</th>\n",
       "      <td>422930</td>\n",
       "      <td>Boy who swallowed battery headed for surgery</td>\n",
       "      <td>http://www.kgns.tv/health/headlines/Boy-who-sw...</td>\n",
       "      <td>KGNS.tv</td>\n",
       "      <td>m</td>\n",
       "      <td>www.kgns.tv</td>\n",
       "      <td>1409229188921</td>\n",
       "      <td>2014-08-28 12:33:08.921</td>\n",
       "    </tr>\n",
       "    <tr>\n",
       "      <th>422411</th>\n",
       "      <td>422931</td>\n",
       "      <td>Ohio Boy's Throat Rebuilt After Being Burned B...</td>\n",
       "      <td>http://www.keyetv.com/news/features/top-storie...</td>\n",
       "      <td>KEYE TV</td>\n",
       "      <td>m</td>\n",
       "      <td>www.keyetv.com</td>\n",
       "      <td>1409229189229</td>\n",
       "      <td>2014-08-28 12:33:09.229</td>\n",
       "    </tr>\n",
       "    <tr>\n",
       "      <th>422412</th>\n",
       "      <td>422932</td>\n",
       "      <td>Cincinnati Children's surgeons to rebuild thro...</td>\n",
       "      <td>http://www.wsmv.com/story/26378648/surgeons-re...</td>\n",
       "      <td>WSMV Nashville</td>\n",
       "      <td>m</td>\n",
       "      <td>www.wsmv.com</td>\n",
       "      <td>1409229189743</td>\n",
       "      <td>2014-08-28 12:33:09.743</td>\n",
       "    </tr>\n",
       "    <tr>\n",
       "      <th>422413</th>\n",
       "      <td>422933</td>\n",
       "      <td>Surgeons to remove 4-year-old's rib to rebuild...</td>\n",
       "      <td>http://www.cbs3springfield.com/story/26378648/...</td>\n",
       "      <td>WSHM-TV</td>\n",
       "      <td>m</td>\n",
       "      <td>www.cbs3springfield.com</td>\n",
       "      <td>1409229190251</td>\n",
       "      <td>2014-08-28 12:33:10.251</td>\n",
       "    </tr>\n",
       "    <tr>\n",
       "      <th>422414</th>\n",
       "      <td>422934</td>\n",
       "      <td>Boy to have surgery on esophagus after battery...</td>\n",
       "      <td>http://www.wlwt.com/news/boy-to-have-surgery-o...</td>\n",
       "      <td>WLWT Cincinnati</td>\n",
       "      <td>m</td>\n",
       "      <td>www.wlwt.com</td>\n",
       "      <td>1409229190508</td>\n",
       "      <td>2014-08-28 12:33:10.508</td>\n",
       "    </tr>\n",
       "    <tr>\n",
       "      <th>422415</th>\n",
       "      <td>422935</td>\n",
       "      <td>Child who swallowed battery to have reconstruc...</td>\n",
       "      <td>http://www.newsnet5.com/news/local-news/child-...</td>\n",
       "      <td>NewsNet5.com</td>\n",
       "      <td>m</td>\n",
       "      <td>www.newsnet5.com</td>\n",
       "      <td>1409229190771</td>\n",
       "      <td>2014-08-28 12:33:10.771</td>\n",
       "    </tr>\n",
       "    <tr>\n",
       "      <th>422416</th>\n",
       "      <td>422936</td>\n",
       "      <td>Phoenix boy undergoes surgery to repair throat...</td>\n",
       "      <td>http://www.wfsb.com/story/26368078/phoenix-boy...</td>\n",
       "      <td>WFSB</td>\n",
       "      <td>m</td>\n",
       "      <td>www.wfsb.com</td>\n",
       "      <td>1409229191071</td>\n",
       "      <td>2014-08-28 12:33:11.071</td>\n",
       "    </tr>\n",
       "    <tr>\n",
       "      <th>422417</th>\n",
       "      <td>422937</td>\n",
       "      <td>Phoenix boy undergoes surgery to repair throat...</td>\n",
       "      <td>http://www.cbs3springfield.com/story/26368078/...</td>\n",
       "      <td>WSHM-TV</td>\n",
       "      <td>m</td>\n",
       "      <td>www.cbs3springfield.com</td>\n",
       "      <td>1409229191565</td>\n",
       "      <td>2014-08-28 12:33:11.565</td>\n",
       "    </tr>\n",
       "  </tbody>\n",
       "</table>\n",
       "<p>1000 rows × 8 columns</p>\n",
       "</div>"
      ],
      "text/plain": [
       "            no                                           Headline  \\\n",
       "421418  421938  John Stamos and producers looking into revivin...   \n",
       "421419  421939  'Full House' Reunion Happening? New Casting Re...   \n",
       "421420  421940           Full House Revival: Possibly on the Way!   \n",
       "421421  421941                    Full House Might Be Coming Back   \n",
       "421422  421942  Breaking News: Full House Reunion Series Plann...   \n",
       "421423  421943   Full House may be getting revived by Warner Bros   \n",
       "421424  421944  Cut It Out! Full House Revival Closer Than Eve...   \n",
       "421425  421945  Full House reboot in development with many ori...   \n",
       "421426  421946  God Help Us: Is Full House Really Coming Back ...   \n",
       "421427  421947          Report: 'Full House' Revival In The Works   \n",
       "421428  421948          Full House Remake: Actually in the Works?   \n",
       "421429  421949      Have Mercy! Warner Bros. Reviving FULL HOUSE?   \n",
       "421430  421950              Full House might be coming back to TV   \n",
       "421431  421951  Warner Bros. TV eyes possible 'Full House' rev...   \n",
       "421432  421952      Full House could be coming back to television   \n",
       "421433  421953  Karrueche Tran And Blue Ivy Diss Scandal Rages...   \n",
       "421434  421954  Source: BET suspends producer after Blue Ivy joke   \n",
       "421435  421955        Karrueche Tran pokes fun at Blue Ivy's hair   \n",
       "421436  421956  Karrueche Tran Pleads For Mercy While Apologiz...   \n",
       "421437  421957   US channel suspends producer after Blue Ivy joke   \n",
       "421438  421958                      Fallon will host nods to Leno   \n",
       "421439  421959  BET's Stephen Hill Apologizes to Beyonce and K...   \n",
       "421440  421960  Karrueche Tran Begs for Mercy and Forgiveness ...   \n",
       "421441  421961              Producer suspended over Blue Ivy joke   \n",
       "421442  421962  Karrueche Tran and BET Apologize For Dissing B...   \n",
       "421443  421963   Beyonce mocked for 'not combing' Blue Ivy's hair   \n",
       "421444  421964  Apologies To Beyonce And Jay Z Not Enough, BET...   \n",
       "421445  421965  Karrueche Tran, BET Exec Apologize for Dissing...   \n",
       "421446  421966  BET Suspends Producer After Making Bad Joke Ab...   \n",
       "421447  421967  AP Source: BET suspends producer after joke ab...   \n",
       "...        ...                                                ...   \n",
       "422388  422908  CDC director says Liberia Ebola outbreak to ge...   \n",
       "422389  422909  France Asks Citizens to Avoid Liberia, Sierra ...   \n",
       "422390  422910  Ebola-infected doctor in Sierra Leone, Sahr Ro...   \n",
       "422391  422911  Ebola zone nations isolated as airlines stop f...   \n",
       "422392  422912  28/08/2014Ebola response 'dangerously inadequa...   \n",
       "422393  422913  Glaxo's Ebola vaccine may begin safety tests i...   \n",
       "422394  422914  Ebola causing huge damage to West African econ...   \n",
       "422395  422915  Ebola outbreak: 'It's even worse than I'd feared'   \n",
       "422396  422916   CDC: Ebola outbreak 'even worse than I'd feared'   \n",
       "422397  422917  Ebola Virus Disease in the Democratic Republic...   \n",
       "422398  422918  CDC Chief Warns Liberia Ebola Crisis 'Will Get...   \n",
       "422399  422919  UPDATE 3-Ebola causing huge damage to W.Africa...   \n",
       "422400  422920  WHO removes staff from Sierra Leone Ebola cent...   \n",
       "422401  422921  Ebola causing huge damage to W Africa economie...   \n",
       "422402  422922  Democratic Republic of Congo reports Ebola out...   \n",
       "422403  422923               British Ebola sufferer gets new drug   \n",
       "422404  422924  AFDB Boss Says Ebola Infected Countries May Lo...   \n",
       "422405  422925  Cincinnati Children's to rebuild boy's throat ...   \n",
       "422406  422926  Cincinnati doctors use child's rib to rebuild ...   \n",
       "422407  422927  Cincinnati Children's surgeons rebuild throat ...   \n",
       "422408  422928  Surgeons remove 4-year-old's rib to rebuild da...   \n",
       "422409  422929       Surgery update for boy who swallowed battery   \n",
       "422410  422930       Boy who swallowed battery headed for surgery   \n",
       "422411  422931  Ohio Boy's Throat Rebuilt After Being Burned B...   \n",
       "422412  422932  Cincinnati Children's surgeons to rebuild thro...   \n",
       "422413  422933  Surgeons to remove 4-year-old's rib to rebuild...   \n",
       "422414  422934  Boy to have surgery on esophagus after battery...   \n",
       "422415  422935  Child who swallowed battery to have reconstruc...   \n",
       "422416  422936  Phoenix boy undergoes surgery to repair throat...   \n",
       "422417  422937  Phoenix boy undergoes surgery to repair throat...   \n",
       "\n",
       "                                                 Web_link  \\\n",
       "421418  http://thecelebritycafe.com/feature/2014/08/jo...   \n",
       "421419  http://www.hollywoodtake.com/full-house-reunio...   \n",
       "421420  http://www.thehollywoodgossip.com/2014/08/full...   \n",
       "421421  http://www.gossipcop.com/full-house-coming-bac...   \n",
       "421422  http://insidepulse.com/2014/08/26/breaking-new...   \n",
       "421423  http://fansided.com/2014/08/26/full-house-new-...   \n",
       "421424  http://www.cinemablend.com/television/Cut-It-O...   \n",
       "421425                http://starcasm.net/archives/285347   \n",
       "421426  http://www.inquisitr.com/1434623/god-help-us-i...   \n",
       "421427  http://www.etcanada.com/blogs/etc_109465/repor...   \n",
       "421428  http://www.tvfanatic.com/2014/08/full-house-re...   \n",
       "421429  http://www.broadwayworld.com/bwwtv/article/Hav...   \n",
       "421430  http://theweek.com/article/index/267078/full-h...   \n",
       "421431  http://insidetv.ew.com/2014/08/26/full-house-r...   \n",
       "421432  http://www.avclub.com/article/full-house-could...   \n",
       "421433  http://www.entertainmentwise.com/news/156419/K...   \n",
       "421434  http://townhall.com/news/entertainment/2014/08...   \n",
       "421435  http://www.sowetanlive.co.za/entertainment/201...   \n",
       "421436  http://chicagodefender.com/2014/08/27/karruech...   \n",
       "421437  http://gulfnews.com/arts-entertainment/celebri...   \n",
       "421438  http://www.journalgazette.net/article/20140828...   \n",
       "421439  http://newpittsburghcourieronline.com/2014/08/...   \n",
       "421440  http://newpittsburghcourieronline.com/2014/08/...   \n",
       "421441  http://www.iol.co.za/tonight/tv-radio/producer...   \n",
       "421442  http://www.chinatopix.com/articles/8145/201408...   \n",
       "421443  http://www.capitalfm.co.ke/lifestyle/2014/08/2...   \n",
       "421444  http://au.ibtimes.com/articles/564291/20140828...   \n",
       "421445  http://www.aceshowbiz.com/news/view/00074313.html   \n",
       "421446  http://www.aceshowbiz.com/news/view/00074352.html   \n",
       "421447  http://www.lillooetnews.net/ap-source-bet-susp...   \n",
       "...                                                   ...   \n",
       "422388  http://www.dw.de/cdc-director-says-liberia-ebo...   \n",
       "422389  http://english.chosun.com/site/data/html_dir/2...   \n",
       "422390  http://www.cbc.ca/news/health/ebola-infected-d...   \n",
       "422391  http://www.brecorder.com/general-news/172/1218...   \n",
       "422392  http://www.expatica.com/be/news/belgian-news/e...   \n",
       "422393  http://www.panews.com/cnhi_network/article_e92...   \n",
       "422394  http://www.moneyweb.co.za/moneyweb-internation...   \n",
       "422395  http://q13fox.com/2014/08/27/ebola-outbreak-it...   \n",
       "422396  http://kfor.com/2014/08/27/cdc-ebola-outbreak-...   \n",
       "422397  http://www.infectioncontroltoday.com/news/2014...   \n",
       "422398  http://www.newsmax.com/Newsfront/Health-Ebola-...   \n",
       "422399  http://af.reuters.com/article/guineaNews/idAFL...   \n",
       "422400  http://www.bignewsnetwork.com/index.php/sid/22...   \n",
       "422401  http://economictimes.indiatimes.com/news/inter...   \n",
       "422402  http://news.xinhuanet.com/english/health/2014-...   \n",
       "422403  http://www.echo.net.au/2014/08/british-ebola-s...   \n",
       "422404  http://leadership.ng/business/382219/afdb-boss...   \n",
       "422405  http://www.bizjournals.com/cincinnati/news/201...   \n",
       "422406  http://www.jrn.com/kgun9/now-trending/Cincinna...   \n",
       "422407  http://www.kptv.com/story/26378648/surgeons-re...   \n",
       "422408  http://www.wnem.com/story/26378648/surgeons-re...   \n",
       "422409  http://www.local12.com/news/features/top-stori...   \n",
       "422410  http://www.kgns.tv/health/headlines/Boy-who-sw...   \n",
       "422411  http://www.keyetv.com/news/features/top-storie...   \n",
       "422412  http://www.wsmv.com/story/26378648/surgeons-re...   \n",
       "422413  http://www.cbs3springfield.com/story/26378648/...   \n",
       "422414  http://www.wlwt.com/news/boy-to-have-surgery-o...   \n",
       "422415  http://www.newsnet5.com/news/local-news/child-...   \n",
       "422416  http://www.wfsb.com/story/26368078/phoenix-boy...   \n",
       "422417  http://www.cbs3springfield.com/story/26368078/...   \n",
       "\n",
       "                               magazine Category  \\\n",
       "421418             TheCelebrityCafe.com        e   \n",
       "421419                   Hollywood Take        e   \n",
       "421420             The Hollywood Gossip        e   \n",
       "421421                       Gossip Cop        e   \n",
       "421422                     Inside Pulse        e   \n",
       "421423                         FanSided        e   \n",
       "421424                     Cinema Blend        e   \n",
       "421425                     Starcasm.net        e   \n",
       "421426                    The Inquisitr        e   \n",
       "421427            ETCanada.com \\(blog\\)        e   \n",
       "421428                       TV Fanatic        e   \n",
       "421429                   Broadway World        e   \n",
       "421430                The Week Magazine        e   \n",
       "421431             Entertainment Weekly        e   \n",
       "421432               A.V. Club \\(blog\\)        e   \n",
       "421433                Entertainmentwise        e   \n",
       "421434                        Town Hall        e   \n",
       "421435                          Sowetan        e   \n",
       "421436                 Chicago Defender        e   \n",
       "421437                     gulfnews.com        e   \n",
       "421438       Fort Wayne Journal Gazette        e   \n",
       "421439           New Pittsburgh Courier        e   \n",
       "421440           New Pittsburgh Courier        e   \n",
       "421441               Independent Online        e   \n",
       "421442                       Chinatopix        e   \n",
       "421443                 Capital FM Kenya        e   \n",
       "421444  International Business Times AU        e   \n",
       "421445                       AceShowbiz        e   \n",
       "421446                       AceShowbiz        e   \n",
       "421447       Bridge River Lillooet News        e   \n",
       "...                                 ...      ...   \n",
       "422388                   Deutsche Welle        m   \n",
       "422389                  The Chosun Ilbo        m   \n",
       "422390                           CBC.ca        m   \n",
       "422391                Business Recorder        m   \n",
       "422392                 Expatica Belguim        m   \n",
       "422393             The Port Arthur News        m   \n",
       "422394                   Moneyweb.co.za        m   \n",
       "422395                          Q13 FOX        m   \n",
       "422396                         kfor.com        m   \n",
       "422397          Infection Control Today        m   \n",
       "422398                      Newsmax.com        m   \n",
       "422399                   Reuters Africa        m   \n",
       "422400             Big News Network.com        m   \n",
       "422401                   Economic Times        m   \n",
       "422402                           Xinhua        m   \n",
       "422403                     Echonetdaily        m   \n",
       "422404            Leadership Newspapers        m   \n",
       "422405      Cincinnati Business Courier        m   \n",
       "422406                           KGUN 9        m   \n",
       "422407                         KPTV.com        m   \n",
       "422408                     WNEM Saginaw        m   \n",
       "422409               WKRC TV Cincinnati        m   \n",
       "422410                          KGNS.tv        m   \n",
       "422411                          KEYE TV        m   \n",
       "422412                   WSMV Nashville        m   \n",
       "422413                          WSHM-TV        m   \n",
       "422414                  WLWT Cincinnati        m   \n",
       "422415                     NewsNet5.com        m   \n",
       "422416                             WFSB        m   \n",
       "422417                          WSHM-TV        m   \n",
       "\n",
       "                      magazine_website      unix_time                datetime  \n",
       "421418            thecelebritycafe.com  1409222393829 2014-08-28 10:39:53.829  \n",
       "421419           www.hollywoodtake.com  1409222394035 2014-08-28 10:39:54.035  \n",
       "421420      www.thehollywoodgossip.com  1409222394482 2014-08-28 10:39:54.482  \n",
       "421421               www.gossipcop.com  1409222394700 2014-08-28 10:39:54.700  \n",
       "421422                 insidepulse.com  1409222394970 2014-08-28 10:39:54.970  \n",
       "421423                    fansided.com  1409222395391 2014-08-28 10:39:55.391  \n",
       "421424             www.cinemablend.com  1409222395644 2014-08-28 10:39:55.644  \n",
       "421425                    starcasm.net  1409222395874 2014-08-28 10:39:55.874  \n",
       "421426               www.inquisitr.com  1409222396234 2014-08-28 10:39:56.234  \n",
       "421427                www.etcanada.com  1409222396470 2014-08-28 10:39:56.470  \n",
       "421428               www.tvfanatic.com  1409222396733 2014-08-28 10:39:56.733  \n",
       "421429           www.broadwayworld.com  1409222397174 2014-08-28 10:39:57.174  \n",
       "421430                     theweek.com  1409222397951 2014-08-28 10:39:57.951  \n",
       "421431                 insidetv.ew.com  1409222398317 2014-08-28 10:39:58.317  \n",
       "421432                  www.avclub.com  1409222398581 2014-08-28 10:39:58.581  \n",
       "421433       www.entertainmentwise.com  1409223267137 2014-08-28 10:54:27.137  \n",
       "421434                    townhall.com  1409223267418 2014-08-28 10:54:27.418  \n",
       "421435           www.sowetanlive.co.za  1409223267884 2014-08-28 10:54:27.884  \n",
       "421436             chicagodefender.com  1409223268269 2014-08-28 10:54:28.269  \n",
       "421437                    gulfnews.com  1409223268601 2014-08-28 10:54:28.601  \n",
       "421438          www.journalgazette.net  1409223268882 2014-08-28 10:54:28.882  \n",
       "421439  newpittsburghcourieronline.com  1409223269194 2014-08-28 10:54:29.194  \n",
       "421440  newpittsburghcourieronline.com  1409223269545 2014-08-28 10:54:29.545  \n",
       "421441                   www.iol.co.za  1409223269782 2014-08-28 10:54:29.782  \n",
       "421442              www.chinatopix.com  1409223270030 2014-08-28 10:54:30.030  \n",
       "421443             www.capitalfm.co.ke  1409223270362 2014-08-28 10:54:30.362  \n",
       "421444                  au.ibtimes.com  1409223270786 2014-08-28 10:54:30.786  \n",
       "421445              www.aceshowbiz.com  1409223271014 2014-08-28 10:54:31.014  \n",
       "421446              www.aceshowbiz.com  1409223271296 2014-08-28 10:54:31.296  \n",
       "421447            www.lillooetnews.net  1409223271498 2014-08-28 10:54:31.498  \n",
       "...                                ...            ...                     ...  \n",
       "422388                       www.dw.de  1409228452081 2014-08-28 12:20:52.081  \n",
       "422389              english.chosun.com  1409228452319 2014-08-28 12:20:52.319  \n",
       "422390                      www.cbc.ca  1409228452728 2014-08-28 12:20:52.728  \n",
       "422391               www.brecorder.com  1409228453085 2014-08-28 12:20:53.085  \n",
       "422392                www.expatica.com  1409228453432 2014-08-28 12:20:53.432  \n",
       "422393                  www.panews.com  1409228453652 2014-08-28 12:20:53.652  \n",
       "422394              www.moneyweb.co.za  1409228453918 2014-08-28 12:20:53.918  \n",
       "422395                      q13fox.com  1409228454366 2014-08-28 12:20:54.366  \n",
       "422396                        kfor.com  1409228454637 2014-08-28 12:20:54.637  \n",
       "422397   www.infectioncontroltoday.com  1409228454932 2014-08-28 12:20:54.932  \n",
       "422398                 www.newsmax.com  1409228455249 2014-08-28 12:20:55.249  \n",
       "422399                  af.reuters.com  1409228455497 2014-08-28 12:20:55.497  \n",
       "422400          www.bignewsnetwork.com  1409228455693 2014-08-28 12:20:55.693  \n",
       "422401    economictimes.indiatimes.com  1409228455934 2014-08-28 12:20:55.934  \n",
       "422402              news.xinhuanet.com  1409228456566 2014-08-28 12:20:56.566  \n",
       "422403                 www.echo.net.au  1409228456773 2014-08-28 12:20:56.773  \n",
       "422404                   leadership.ng  1409228457129 2014-08-28 12:20:57.129  \n",
       "422405             www.bizjournals.com  1409229187092 2014-08-28 12:33:07.092  \n",
       "422406                     www.jrn.com  1409229187393 2014-08-28 12:33:07.393  \n",
       "422407                    www.kptv.com  1409229187741 2014-08-28 12:33:07.741  \n",
       "422408                    www.wnem.com  1409229188173 2014-08-28 12:33:08.173  \n",
       "422409                 www.local12.com  1409229188577 2014-08-28 12:33:08.577  \n",
       "422410                     www.kgns.tv  1409229188921 2014-08-28 12:33:08.921  \n",
       "422411                  www.keyetv.com  1409229189229 2014-08-28 12:33:09.229  \n",
       "422412                    www.wsmv.com  1409229189743 2014-08-28 12:33:09.743  \n",
       "422413         www.cbs3springfield.com  1409229190251 2014-08-28 12:33:10.251  \n",
       "422414                    www.wlwt.com  1409229190508 2014-08-28 12:33:10.508  \n",
       "422415                www.newsnet5.com  1409229190771 2014-08-28 12:33:10.771  \n",
       "422416                    www.wfsb.com  1409229191071 2014-08-28 12:33:11.071  \n",
       "422417         www.cbs3springfield.com  1409229191565 2014-08-28 12:33:11.565  \n",
       "\n",
       "[1000 rows x 8 columns]"
      ]
     },
     "execution_count": 16,
     "metadata": {},
     "output_type": "execute_result"
    }
   ],
   "source": [
    "df1.tail(1000) # cheacking wheter all values are changed"
   ]
  },
  {
   "cell_type": "code",
   "execution_count": 17,
   "metadata": {},
   "outputs": [
    {
     "data": {
      "text/plain": [
       "pandas._libs.tslibs.timestamps.Timestamp"
      ]
     },
     "execution_count": 17,
     "metadata": {},
     "output_type": "execute_result"
    }
   ],
   "source": [
    "type(df1[\"datetime\"][0])"
   ]
  },
  {
   "cell_type": "code",
   "execution_count": 18,
   "metadata": {},
   "outputs": [
    {
     "name": "stdout",
     "output_type": "stream",
     "text": [
      "The data which we are conducting for this analysis is from 2014-03-10 to 2014-08-28\n"
     ]
    }
   ],
   "source": [
    "print(\"The data which we are conducting for this analysis is from \" + str(df1[\"datetime\"].dt.date[0]) + \" to \" + str(df1[\"datetime\"].dt.date[len(df1)-1]))"
   ]
  },
  {
   "cell_type": "code",
   "execution_count": 19,
   "metadata": {},
   "outputs": [],
   "source": [
    "df1['date'] = df1['datetime'].dt.date\n",
    "df1['time'] = df1['datetime'].dt.time\n",
    "df1['month'] = df1['datetime'].dt.month"
   ]
  },
  {
   "cell_type": "code",
   "execution_count": 20,
   "metadata": {},
   "outputs": [],
   "source": [
    "df1 = df1.drop([\"unix_time\"],axis = 1)\n"
   ]
  },
  {
   "cell_type": "markdown",
   "metadata": {},
   "source": [
    "## Exploratory Analysis"
   ]
  },
  {
   "cell_type": "code",
   "execution_count": 21,
   "metadata": {},
   "outputs": [
    {
     "name": "stderr",
     "output_type": "stream",
     "text": [
      "C:\\Users\\akhil\\Anaconda3\\lib\\site-packages\\scipy\\stats\\stats.py:1713: FutureWarning: Using a non-tuple sequence for multidimensional indexing is deprecated; use `arr[tuple(seq)]` instead of `arr[seq]`. In the future this will be interpreted as an array index, `arr[np.array(seq)]`, which will result either in an error or a different result.\n",
      "  return np.add.reduce(sorted[indexer] * weights, axis=axis) / sumval\n"
     ]
    },
    {
     "data": {
      "text/plain": [
       "[Text(0, 0.5, 'Number Of Posts'), Text(0.5, 0, 'Month')]"
      ]
     },
     "execution_count": 21,
     "metadata": {},
     "output_type": "execute_result"
    },
    {
     "data": {
      "image/png": "[encoded data removed]",
      "text/plain": [
       "<Figure size 432x288 with 1 Axes>"
      ]
     },
     "metadata": {
      "needs_background": "light"
     },
     "output_type": "display_data"
    }
   ],
   "source": [
    "ax = sns.barplot(x=\"month\", y=\"no\", data=df1)\n",
    "ax.set(xlabel=\"Month\", ylabel = \"Number Of Posts\")\n",
    "# number of posts from every month"
   ]
  },
  {
   "cell_type": "markdown",
   "metadata": {},
   "source": [
    "For average number of articles might differ as the start date is from 10th of march which makes 20 days in the march and 28 days in august because it is till 28th"
   ]
  },
  {
   "cell_type": "code",
   "execution_count": 50,
   "metadata": {},
   "outputs": [],
   "source": [
    "p=[]\n",
    "months = [3,4,5,6,7,8]\n",
    "days = [20,30,31,31,31,28]\n",
    "for i in range (0,len(days)):\n",
    "    p.append(len(df1[df1.month==i+3])/days[i])"
   ]
  },
  {
   "cell_type": "code",
   "execution_count": 51,
   "metadata": {},
   "outputs": [
    {
     "data": {
      "image/png": "[encoded data removed]",
      "text/plain": [
       "<Figure size 432x288 with 1 Axes>"
      ]
     },
     "metadata": {
      "needs_background": "light"
     },
     "output_type": "display_data"
    }
   ],
   "source": [
    "ax = sns.barplot(x=months, y= p)\n",
    "ax.set(xlabel=\"Month\", ylabel = \"AVG number of posts\")\n",
    "# total average posts from various months\n",
    "plt.show()"
   ]
  },
  {
   "cell_type": "code",
   "execution_count": 52,
   "metadata": {},
   "outputs": [
    {
     "data": {
      "image/png": "[encoded data removed]",
      "text/plain": [
       "<Figure size 576x360 with 1 Axes>"
      ]
     },
     "metadata": {},
     "output_type": "display_data"
    }
   ],
   "source": [
    "plt.style.use(\"ggplot\")\n",
    "# Category's distribution\n",
    "ax = df1.groupby(\"Category\").count()[\"no\"].plot(kind=\"pie\", \n",
    "                                                 figsize=(8, 5),\n",
    "                                                 title=\"DIstribution of posts in various industry\")\n",
    "plt.show()\n",
    "# distributions from various industry like entertainment, bussiness, medical, etc.,"
   ]
  },
  {
   "cell_type": "code",
   "execution_count": 53,
   "metadata": {},
   "outputs": [
    {
     "data": {
      "text/plain": [
       "<matplotlib.axes._subplots.AxesSubplot at 0x27295c40c50>"
      ]
     },
     "execution_count": 53,
     "metadata": {},
     "output_type": "execute_result"
    },
    {
     "data": {
      "image/png": "[encoded data removed]",
      "text/plain": [
       "<Figure size 432x288 with 1 Axes>"
      ]
     },
     "metadata": {},
     "output_type": "display_data"
    }
   ],
   "source": [
    "df1[\"magazine\"].value_counts().head().plot(kind='bar')\n",
    "# highest posted publiser"
   ]
  },
  {
   "cell_type": "code",
   "execution_count": 54,
   "metadata": {},
   "outputs": [],
   "source": [
    "df2= df1.groupby(['Category','month'])['no'].count()"
   ]
  },
  {
   "cell_type": "code",
   "execution_count": 55,
   "metadata": {},
   "outputs": [
    {
     "data": {
      "image/png": "[encoded data removed]",
      "text/plain": [
       "<Figure size 7200x3600 with 1 Axes>"
      ]
     },
     "metadata": {},
     "output_type": "display_data"
    }
   ],
   "source": [
    "# posts from various industries from every month\n",
    "fig, ax = plt.subplots(figsize=(100,50))\n",
    "_=df2.plot(kind = 'bar',ax=ax)\n",
    "_=plt.xlabel('Category,Months',fontsize=90)\n",
    "_=plt.ylabel('Number of posts',fontsize=90)\n",
    "_=plt.title('Posts distribution over months withrespective to category',fontsize=100)\n",
    "_=plt.xticks(rotation='vertical',fontsize=70)\n",
    "_=plt.yticks(fontsize=70)"
   ]
  },
  {
   "cell_type": "markdown",
   "metadata": {},
   "source": [
    "## Text Cleaning"
   ]
  },
  {
   "cell_type": "code",
   "execution_count": 22,
   "metadata": {},
   "outputs": [],
   "source": [
    "df1['Headline']=df1['Headline'].str.replace('\\d+', '') # removing all the numbers in the text"
   ]
  },
  {
   "cell_type": "code",
   "execution_count": 23,
   "metadata": {},
   "outputs": [],
   "source": [
    "df1['Headline']=df1['Headline'].str.lower()# converting everything into lower case"
   ]
  },
  {
   "cell_type": "code",
   "execution_count": 24,
   "metadata": {},
   "outputs": [
    {
     "data": {
      "text/plain": [
       "0         fed's charles plosser sees high bar for change...\n",
       "1         us open: stocks fall after fed official hints ...\n",
       "2         fed risks falling 'behind the curve', charles ...\n",
       "3         fed's plosser: nasty weather has curbed job gr...\n",
       "4         plosser: fed may have to accelerate tapering pace\n",
       "5                 fed's plosser: taper pace may be too slow\n",
       "6         fed's plosser expects us unemployment to fall ...\n",
       "7         us jobs growth last month hit by weather:fed p...\n",
       "8         ecb unlikely to end sterilisation of smp purch...\n",
       "9         ecb unlikely to end sterilization of smp purch...\n",
       "10                    eu's half-baked bank union could work\n",
       "11             europe reaches crunch point on banking union\n",
       "12        ecb focus-stronger euro drowns out ecb's messa...\n",
       "13               eu aims for deal on tackling failing banks\n",
       "14        forex - pound drops to one-month lows against ...\n",
       "15        noyer says strong euro creates unwarranted eco...\n",
       "16        eu week ahead march -: bank resolution, transp...\n",
       "17        ecb member noyer is 'very open to all kinds of...\n",
       "18        euro anxieties wane as bunds top treasuries, s...\n",
       "19        noyer says strong euro creates unwarranted eco...\n",
       "20        noyer says stronger euro creates unwarranted p...\n",
       "21        bad loan triggers key feature in ecb bank test...\n",
       "22        china's trade deficit and structural worries i...\n",
       "23                     things you need to know this morning\n",
       "24        ecb's noyer not happy with euro strength -- up...\n",
       "25         eurozone banks' sovereign exposure hits new high\n",
       "26        ecb to reveal bad loan hurdles for euro zone b...\n",
       "27        forex market: eur/usd retreats from -/-year hi...\n",
       "28        refile-bad loan triggers key feature in ecb ba...\n",
       "29        update -ecb to reveal bad loan hurdles for eur...\n",
       "                                ...                        \n",
       "422388    cdc director says liberia ebola outbreak to ge...\n",
       "422389    france asks citizens to avoid liberia, sierra ...\n",
       "422390    ebola-infected doctor in sierra leone, sahr ro...\n",
       "422391    ebola zone nations isolated as airlines stop f...\n",
       "422392    //ebola response 'dangerously inadequate,' say...\n",
       "422393    glaxo's ebola vaccine may begin safety tests i...\n",
       "422394    ebola causing huge damage to west african econ...\n",
       "422395    ebola outbreak: 'it's even worse than i'd feared'\n",
       "422396     cdc: ebola outbreak 'even worse than i'd feared'\n",
       "422397    ebola virus disease in the democratic republic...\n",
       "422398    cdc chief warns liberia ebola crisis 'will get...\n",
       "422399    update -ebola causing huge damage to w.africa ...\n",
       "422400    who removes staff from sierra leone ebola cent...\n",
       "422401    ebola causing huge damage to w africa economie...\n",
       "422402    democratic republic of congo reports ebola out...\n",
       "422403                 british ebola sufferer gets new drug\n",
       "422404    afdb boss says ebola infected countries may lo...\n",
       "422405    cincinnati children's to rebuild boy's throat ...\n",
       "422406    cincinnati doctors use child's rib to rebuild ...\n",
       "422407    cincinnati children's surgeons rebuild throat ...\n",
       "422408    surgeons remove -year-old's rib to rebuild dam...\n",
       "422409         surgery update for boy who swallowed battery\n",
       "422410         boy who swallowed battery headed for surgery\n",
       "422411    ohio boy's throat rebuilt after being burned b...\n",
       "422412    cincinnati children's surgeons to rebuild thro...\n",
       "422413    surgeons to remove -year-old's rib to rebuild ...\n",
       "422414    boy to have surgery on esophagus after battery...\n",
       "422415    child who swallowed battery to have reconstruc...\n",
       "422416    phoenix boy undergoes surgery to repair throat...\n",
       "422417    phoenix boy undergoes surgery to repair throat...\n",
       "Name: Headline, Length: 422418, dtype: object"
      ]
     },
     "execution_count": 24,
     "metadata": {},
     "output_type": "execute_result"
    }
   ],
   "source": [
    "df1[\"Headline\"]"
   ]
  },
  {
   "cell_type": "markdown",
   "metadata": {},
   "source": [
    "## For deliverable 3"
   ]
  },
  {
   "cell_type": "code",
   "execution_count": 25,
   "metadata": {},
   "outputs": [],
   "source": [
    "# removing puncuation ,marks\n",
    "def remove_punctuation(t):\n",
    "    no_punct = ''.join(p for p in t if p not in string.punctuation)\n",
    "    return no_punct"
   ]
  },
  {
   "cell_type": "code",
   "execution_count": 26,
   "metadata": {},
   "outputs": [],
   "source": [
    "df1['Headline']=df1['Headline'].apply(lambda x: remove_punctuation(x)) # removing all the puncuations"
   ]
  },
  {
   "cell_type": "code",
   "execution_count": 28,
   "metadata": {},
   "outputs": [],
   "source": [
    "stop_words = set(stopwords.words('english')) # removing all the stop words\n",
    "def cleaning(text):\n",
    "    word_tokens = text.split(\" \")\n",
    "    # Remove stopwords\n",
    "    word_tokens = [word for word in word_tokens if word not in stop_words]\n",
    "    return \" \".join(word_tokens)"
   ]
  },
  {
   "cell_type": "code",
   "execution_count": 29,
   "metadata": {},
   "outputs": [],
   "source": [
    "df1['Headline']=df1['Headline'].apply(cleaning)"
   ]
  },
  {
   "cell_type": "code",
   "execution_count": 31,
   "metadata": {},
   "outputs": [],
   "source": [
    "df1[\"Headline\"] = df1[\"Headline\"].apply(str)"
   ]
  },
  {
   "cell_type": "code",
   "execution_count": 32,
   "metadata": {},
   "outputs": [],
   "source": [
    "# lemmetizing to decrease word count\n",
    "w_tokenizer = nltk.tokenize.WhitespaceTokenizer()\n",
    "lemmatizer = nltk.stem.WordNetLemmatizer()\n",
    "\n",
    "def lemmatize_text(text):\n",
    "    Splits = text.split(\" \")\n",
    "    lem = [lemmatizer.lemmatize(w) for w in Splits]\n",
    "    return \" \".join(lem)\n",
    "\n",
    "df1['Headline'] = df1.Headline.apply(lemmatize_text)"
   ]
  },
  {
   "cell_type": "code",
   "execution_count": 33,
   "metadata": {},
   "outputs": [],
   "source": [
    "#stemming to decrease word count\n",
    "porter_stemmer  = PorterStemmer()\n",
    "def Stemming(text):\n",
    "    Splits = text.split(\" \")\n",
    "    lem = [porter_stemmer.stem(w) for w in Splits]\n",
    "    return \" \".join(lem)\n",
    "    \n",
    "df1['Headline'] = df1.Headline.apply(Stemming)"
   ]
  },
  {
   "cell_type": "code",
   "execution_count": 34,
   "metadata": {},
   "outputs": [
    {
     "data": {
      "text/plain": [
       "0    fed charl plosser see high bar chang pace taper\n",
       "1    u open stock fall fed offici hint acceler taper\n",
       "2        fed risk fall behind curv charl plosser say\n",
       "3          fed plosser nasti weather curb job growth\n",
       "4                 plosser fed may acceler taper pace\n",
       "Name: Headline, dtype: object"
      ]
     },
     "execution_count": 34,
     "metadata": {},
     "output_type": "execute_result"
    }
   ],
   "source": [
    "df1[\"Headline\"].head()"
   ]
  },
  {
   "cell_type": "code",
   "execution_count": 35,
   "metadata": {},
   "outputs": [],
   "source": [
    "df1['token'] = df1.apply(lambda row: nltk.word_tokenize(row['Headline']), axis=1) # tokenizing "
   ]
  },
  {
   "cell_type": "code",
   "execution_count": 36,
   "metadata": {},
   "outputs": [],
   "source": [
    "def totok():\n",
    "    total = []\n",
    "    for x in df1['token']:\n",
    "        total += x\n",
    "    counter = Counter(total)\n",
    "    return counter.most_common(10)"
   ]
  },
  {
   "cell_type": "code",
   "execution_count": 37,
   "metadata": {},
   "outputs": [
    {
     "name": "stdout",
     "output_type": "stream",
     "text": [
      "Top repeated words: [('new', 24245), ('u', 19305), ('googl', 12536), ('say', 11152), ('appl', 10129), ('video', 9916), ('get', 9208), ('report', 8931), ('star', 8462), ('show', 8288)]\n"
     ]
    }
   ],
   "source": [
    "# Top words in the whole article\n",
    "print('Top repeated words:', totok())\n"
   ]
  },
  {
   "cell_type": "code",
   "execution_count": 38,
   "metadata": {},
   "outputs": [],
   "source": [
    "def tok(category):\n",
    "    tokens = df1[df1['Category'] == category]['token']\n",
    "    total = []\n",
    "    for x in tokens:\n",
    "        total += x\n",
    "    counter = Counter(total)\n",
    "    return counter.most_common(10)"
   ]
  },
  {
   "cell_type": "code",
   "execution_count": 39,
   "metadata": {},
   "outputs": [
    {
     "name": "stdout",
     "output_type": "stream",
     "text": [
      "category : b\n",
      "Top repeated words: [('u', 11197), ('stock', 6748), ('new', 4606), ('rate', 4602), ('china', 4173), ('bank', 3973), ('price', 3952), ('market', 3843), ('rise', 3629), ('sale', 3626)]\n",
      "category : t\n",
      "Top repeated words: [('googl', 11498), ('appl', 9247), ('new', 7981), ('samsung', 7672), ('microsoft', 6439), ('facebook', 5910), ('galaxi', 5859), ('launch', 4208), ('android', 4113), ('one', 3945)]\n",
      "category : e\n",
      "Top repeated words: [('new', 9103), ('star', 7922), ('video', 6543), ('kardashian', 6058), ('kim', 5797), ('season', 5495), ('show', 5134), ('movi', 5068), ('game', 5062), ('review', 4485)]\n",
      "category : m\n",
      "Top repeated words: [('ebola', 3685), ('studi', 3565), ('cancer', 2798), ('health', 2743), ('new', 2555), ('u', 2327), ('may', 2090), ('viru', 1977), ('mer', 1906), ('say', 1865)]\n"
     ]
    }
   ],
   "source": [
    "# Getting top words in every category\n",
    "for category in set(df1['Category']):\n",
    "    print('category :', category + '\\n' + 'Top repeated words:', tok(category) )\n"
   ]
  },
  {
   "cell_type": "code",
   "execution_count": 75,
   "metadata": {},
   "outputs": [],
   "source": [
    "#test and train split\n",
    "train_x, test_x,train_y, test_y= train_test_split(df1.Headline,df1.Category, random_state=3,test_size=0.20)"
   ]
  },
  {
   "cell_type": "code",
   "execution_count": 76,
   "metadata": {},
   "outputs": [
    {
     "data": {
      "text/plain": [
       "(337934,)"
      ]
     },
     "execution_count": 76,
     "metadata": {},
     "output_type": "execute_result"
    }
   ],
   "source": [
    "train_x.shape"
   ]
  },
  {
   "cell_type": "code",
   "execution_count": 77,
   "metadata": {},
   "outputs": [
    {
     "data": {
      "text/plain": [
       "(84484,)"
      ]
     },
     "execution_count": 77,
     "metadata": {},
     "output_type": "execute_result"
    }
   ],
   "source": [
    "test_x.shape"
   ]
  },
  {
   "cell_type": "markdown",
   "metadata": {},
   "source": [
    "But with normal splitting many models of scikit are facing problems as they are expecting a numeric value instead of text data"
   ]
  },
  {
   "cell_type": "code",
   "execution_count": 78,
   "metadata": {},
   "outputs": [],
   "source": [
    "count_vect = CountVectorizer()"
   ]
  },
  {
   "cell_type": "code",
   "execution_count": 80,
   "metadata": {},
   "outputs": [],
   "source": [
    "# vectorizing to convert text into numerics\n",
    "X = count_vect.fit_transform(df1.Headline)\n",
    "y = le().fit_transform(df1['Category'])\n",
    "train_x, test_x,train_y, test_y= train_test_split(X,y, random_state=3,test_size=0.20)"
   ]
  },
  {
   "cell_type": "code",
   "execution_count": 81,
   "metadata": {},
   "outputs": [
    {
     "data": {
      "text/plain": [
       "(84484, 46218)"
      ]
     },
     "execution_count": 81,
     "metadata": {},
     "output_type": "execute_result"
    }
   ],
   "source": [
    "test_x.shape"
   ]
  },
  {
   "cell_type": "code",
   "execution_count": 84,
   "metadata": {},
   "outputs": [],
   "source": [
    "# applying multiclass classifier\n",
    "clf = OneVsRestClassifier(LogisticRegression())"
   ]
  },
  {
   "cell_type": "code",
   "execution_count": 85,
   "metadata": {},
   "outputs": [
    {
     "name": "stderr",
     "output_type": "stream",
     "text": [
      "C:\\Users\\akhil\\Anaconda3\\lib\\site-packages\\sklearn\\linear_model\\logistic.py:433: FutureWarning: Default solver will be changed to 'lbfgs' in 0.22. Specify a solver to silence this warning.\n",
      "  FutureWarning)\n"
     ]
    },
    {
     "data": {
      "text/plain": [
       "OneVsRestClassifier(estimator=LogisticRegression(C=1.0, class_weight=None, dual=False, fit_intercept=True,\n",
       "          intercept_scaling=1, max_iter=100, multi_class='warn',\n",
       "          n_jobs=None, penalty='l2', random_state=None, solver='warn',\n",
       "          tol=0.0001, verbose=0, warm_start=False),\n",
       "          n_jobs=None)"
      ]
     },
     "execution_count": 85,
     "metadata": {},
     "output_type": "execute_result"
    }
   ],
   "source": [
    "clf.fit(train_x,train_y)"
   ]
  },
  {
   "cell_type": "code",
   "execution_count": 86,
   "metadata": {},
   "outputs": [
    {
     "data": {
      "text/plain": [
       "0.9433383835992614"
      ]
     },
     "execution_count": 86,
     "metadata": {},
     "output_type": "execute_result"
    }
   ],
   "source": [
    "# logistic reg accuracy\n",
    "clf.score(test_x, test_y)"
   ]
  },
  {
   "cell_type": "markdown",
   "metadata": {},
   "source": [
    "Thought it is overfitting and quite didn't expect this better accuracy from basic regression model"
   ]
  },
  {
   "cell_type": "code",
   "execution_count": 87,
   "metadata": {},
   "outputs": [
    {
     "data": {
      "text/plain": [
       "array([[21395,   340,   177,  1224],\n",
       "       [  367, 29623,   109,   272],\n",
       "       [  361,   189,  8552,   130],\n",
       "       [ 1158,   364,    96, 20127]], dtype=int64)"
      ]
     },
     "execution_count": 87,
     "metadata": {},
     "output_type": "execute_result"
    }
   ],
   "source": [
    "# confusion matrix\n",
    "test_y_real = clf.predict(test_x)\n",
    "confusion_matrix(test_y,test_y_real)"
   ]
  },
  {
   "cell_type": "markdown",
   "metadata": {},
   "source": [
    "Confusion matric looks fine"
   ]
  },
  {
   "cell_type": "code",
   "execution_count": 88,
   "metadata": {},
   "outputs": [
    {
     "name": "stderr",
     "output_type": "stream",
     "text": [
      "C:\\Users\\akhil\\Anaconda3\\lib\\site-packages\\sklearn\\linear_model\\logistic.py:433: FutureWarning: Default solver will be changed to 'lbfgs' in 0.22. Specify a solver to silence this warning.\n",
      "  FutureWarning)\n",
      "C:\\Users\\akhil\\Anaconda3\\lib\\site-packages\\sklearn\\linear_model\\logistic.py:433: FutureWarning: Default solver will be changed to 'lbfgs' in 0.22. Specify a solver to silence this warning.\n",
      "  FutureWarning)\n",
      "C:\\Users\\akhil\\Anaconda3\\lib\\site-packages\\sklearn\\linear_model\\logistic.py:433: FutureWarning: Default solver will be changed to 'lbfgs' in 0.22. Specify a solver to silence this warning.\n",
      "  FutureWarning)\n",
      "C:\\Users\\akhil\\Anaconda3\\lib\\site-packages\\sklearn\\linear_model\\logistic.py:433: FutureWarning: Default solver will be changed to 'lbfgs' in 0.22. Specify a solver to silence this warning.\n",
      "  FutureWarning)\n",
      "C:\\Users\\akhil\\Anaconda3\\lib\\site-packages\\sklearn\\linear_model\\logistic.py:433: FutureWarning: Default solver will be changed to 'lbfgs' in 0.22. Specify a solver to silence this warning.\n",
      "  FutureWarning)\n"
     ]
    }
   ],
   "source": [
    "#cross validation of logistic regression\n",
    "n_samples = X.shape[0]\n",
    "ss = ShuffleSplit(n_splits=5, test_size=0.3, random_state=0)\n",
    "p = cross_val_score(clf, X, y, cv=ss)"
   ]
  },
  {
   "cell_type": "markdown",
   "metadata": {},
   "source": [
    "Cross validated to check that it is not over fitting"
   ]
  },
  {
   "cell_type": "code",
   "execution_count": 89,
   "metadata": {},
   "outputs": [
    {
     "name": "stdout",
     "output_type": "stream",
     "text": [
      "0.9426195098085633\n"
     ]
    }
   ],
   "source": [
    "# mean of cross validation\n",
    "print(statistics.mean(p))"
   ]
  },
  {
   "cell_type": "code",
   "execution_count": 90,
   "metadata": {},
   "outputs": [
    {
     "data": {
      "text/plain": [
       "MultinomialNB(alpha=1.0, class_prior=None, fit_prior=True)"
      ]
     },
     "execution_count": 90,
     "metadata": {},
     "output_type": "execute_result"
    }
   ],
   "source": [
    "# naive bayes\n",
    "mnb = MultinomialNB()\n",
    "mnb.fit(train_x, train_y)"
   ]
  },
  {
   "cell_type": "code",
   "execution_count": 91,
   "metadata": {},
   "outputs": [
    {
     "data": {
      "text/plain": [
       "0.9219970645329293"
      ]
     },
     "execution_count": 91,
     "metadata": {},
     "output_type": "execute_result"
    }
   ],
   "source": [
    "#naive bayes accuracy\n",
    "mnb.score(test_x,test_y)"
   ]
  },
  {
   "cell_type": "code",
   "execution_count": 92,
   "metadata": {},
   "outputs": [],
   "source": [
    "test_y_real = mnb.predict(test_x)"
   ]
  },
  {
   "cell_type": "code",
   "execution_count": 93,
   "metadata": {},
   "outputs": [
    {
     "data": {
      "text/plain": [
       "array([[20824,   400,   343,  1569],\n",
       "       [  472, 29060,   216,   623],\n",
       "       [  376,   285,  8404,   167],\n",
       "       [ 1491,   422,   226, 19606]], dtype=int64)"
      ]
     },
     "execution_count": 93,
     "metadata": {},
     "output_type": "execute_result"
    }
   ],
   "source": [
    "# confusion matrix\n",
    "confusion_matrix(test_y,test_y_real)"
   ]
  },
  {
   "cell_type": "markdown",
   "metadata": {},
   "source": [
    "### Confusion matrix seems good"
   ]
  },
  {
   "cell_type": "code",
   "execution_count": 95,
   "metadata": {},
   "outputs": [
    {
     "name": "stdout",
     "output_type": "stream",
     "text": [
      "0.9223428254762092\n"
     ]
    }
   ],
   "source": [
    "#cross-validation of naive bayes\n",
    "Cross = cross_val_score(mnb, train_x, train_y, cv=10)\n",
    "print(statistics.mean(Cross))"
   ]
  },
  {
   "cell_type": "markdown",
   "metadata": {},
   "source": [
    "Cross validation also shows same results. So, naive bayes is not overfitting"
   ]
  },
  {
   "cell_type": "markdown",
   "metadata": {},
   "source": [
    "## Decision Tree"
   ]
  },
  {
   "cell_type": "code",
   "execution_count": 96,
   "metadata": {},
   "outputs": [],
   "source": [
    "# tried changing test and train size\n",
    "train_x, test_x,train_y, test_y= train_test_split(X,y, random_state=3,test_size=0.50)"
   ]
  },
  {
   "cell_type": "code",
   "execution_count": 97,
   "metadata": {},
   "outputs": [],
   "source": [
    "clf_gini = DecisionTreeClassifier(criterion = \"gini\", random_state = 100,max_depth=3, min_samples_leaf=5) \n",
    "clf1 = clf_gini.fit(train_x, train_y)"
   ]
  },
  {
   "cell_type": "code",
   "execution_count": 98,
   "metadata": {},
   "outputs": [
    {
     "data": {
      "text/plain": [
       "0.41969802423192193"
      ]
     },
     "execution_count": 98,
     "metadata": {},
     "output_type": "execute_result"
    }
   ],
   "source": [
    "# accuracy\n",
    "clf1.score(test_x,test_y)"
   ]
  },
  {
   "cell_type": "markdown",
   "metadata": {},
   "source": [
    "Didn't get quite as expected"
   ]
  },
  {
   "cell_type": "code",
   "execution_count": 99,
   "metadata": {},
   "outputs": [],
   "source": [
    "clf_entropy = DecisionTreeClassifier(criterion = \"entropy\", random_state = 100, max_depth = 7, min_samples_leaf = 5) \n",
    "clf_1 = OneVsRestClassifier(clf_entropy)\n",
    "clf2 = clf_1.fit(train_x, train_y) "
   ]
  },
  {
   "cell_type": "markdown",
   "metadata": {},
   "source": [
    "Applied multiclass operator to boost perforamnce"
   ]
  },
  {
   "cell_type": "code",
   "execution_count": 100,
   "metadata": {},
   "outputs": [
    {
     "data": {
      "text/plain": [
       "0.5499718288519903"
      ]
     },
     "execution_count": 100,
     "metadata": {},
     "output_type": "execute_result"
    }
   ],
   "source": [
    "clf2.score(test_x,test_y)"
   ]
  },
  {
   "cell_type": "markdown",
   "metadata": {},
   "source": [
    "Not satifactory\n",
    "\n",
    "Would like to work on this"
   ]
  },
  {
   "cell_type": "code",
   "execution_count": 106,
   "metadata": {},
   "outputs": [],
   "source": [
    "# html parsing\n",
    "def text(link):\n",
    "    url = link\n",
    "    htmlString = get(url).text\n",
    "    html = BeautifulSoup(htmlString, 'lxml')\n",
    "    entries = html.find_all('div', {'class':'StandardArticleBody_body'})\n",
    "    text = [e.get_text() for e in entries]\n",
    "    #print '{} posts were found.'.format(len(text))\n",
    "    return text"
   ]
  },
  {
   "cell_type": "code",
   "execution_count": 107,
   "metadata": {},
   "outputs": [],
   "source": [
    "def text1(link):\n",
    "    url = link\n",
    "    htmlString = get(url).text\n",
    "    html = BeautifulSoup(htmlString, 'lxml')\n",
    "    entries = html.find_all('div', {'itemprop':'articleBody'})\n",
    "    text = [e.get_text() for e in entries]\n",
    "    #print '{} posts were found.'.format(len(text))\n",
    "    return text"
   ]
  },
  {
   "cell_type": "code",
   "execution_count": 108,
   "metadata": {},
   "outputs": [],
   "source": [
    "df['Story'] = ''"
   ]
  },
  {
   "cell_type": "code",
   "execution_count": 112,
   "metadata": {},
   "outputs": [
    {
     "name": "stderr",
     "output_type": "stream",
     "text": [
      "C:\\Users\\akhil\\Anaconda3\\lib\\site-packages\\ipykernel_launcher.py:7: SettingWithCopyWarning: \n",
      "A value is trying to be set on a copy of a slice from a DataFrame\n",
      "\n",
      "See the caveats in the documentation: http://pandas.pydata.org/pandas-docs/stable/indexing.html#indexing-view-versus-copy\n",
      "  import sys\n"
     ]
    },
    {
     "name": "stdout",
     "output_type": "stream",
     "text": [
      "4605.556126356125\n",
      "Wall time: 1h 16min 45s\n"
     ]
    }
   ],
   "source": [
    "# data retrival form website\n",
    "%%time\n",
    "t0 = time.time()\n",
    "p1 = []\n",
    "for i in range(0,len(df)):\n",
    "    if df.magazine[i] == 'Reuters':\n",
    "        j = df.Web_link[i]\n",
    "        p1 = text(j)\n",
    "        df['Story'][i] = p1\n",
    "#    if df.magazine[i] == 'Daily Mail':\n",
    "#        j = df.Web_link[i]\n",
    "#        p1 = text1(j)\n",
    "#        df['Story'][i] = p1\n",
    "print(time.time() - t0)"
   ]
  },
  {
   "cell_type": "markdown",
   "metadata": {},
   "source": [
    "It takes quite a lot time. I would like to optimise the time to retrive as well as find a way to compare the article with limited resources as many websites are not actively monitored by the magazine pages"
   ]
  }
 ],
 "metadata": {
  "kernelspec": {
   "display_name": "Python 3",
   "language": "python",
   "name": "python3"
  },
  "language_info": {
   "codemirror_mode": {
    "name": "ipython",
    "version": 3
   },
   "file_extension": ".py",
   "mimetype": "text/x-python",
   "name": "python",
   "nbconvert_exporter": "python",
   "pygments_lexer": "ipython3",
   "version": "3.7.1"
  }
 },
 "nbformat": 4,
 "nbformat_minor": 2
}
